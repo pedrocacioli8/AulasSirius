{
  "nbformat": 4,
  "nbformat_minor": 0,
  "metadata": {
    "colab": {
      "provenance": [],
      "authorship_tag": "ABX9TyNr9fxRiOFq+1kdZjR0eWSW",
      "include_colab_link": true
    },
    "kernelspec": {
      "name": "python3",
      "display_name": "Python 3"
    },
    "language_info": {
      "name": "python"
    }
  },
  "cells": [
    {
      "cell_type": "markdown",
      "metadata": {
        "id": "view-in-github",
        "colab_type": "text"
      },
      "source": [
        "<a href=\"https://colab.research.google.com/github/pedrocacioli8/AulasSirius/blob/main/Aula_08_Estruturas_de_Dados_Dicion%C3%A1rios.ipynb\" target=\"_parent\"><img src=\"https://colab.research.google.com/assets/colab-badge.svg\" alt=\"Open In Colab\"/></a>"
      ]
    },
    {
      "cell_type": "code",
      "execution_count": null,
      "metadata": {
        "colab": {
          "base_uri": "https://localhost:8080/"
        },
        "id": "Fbn8epL5Mmgx",
        "outputId": "d8c2b87b-2293-436d-ff62-a784c6e51345"
      },
      "outputs": [
        {
          "output_type": "stream",
          "name": "stdout",
          "text": [
            "{}\n"
          ]
        }
      ],
      "source": [
        "dicionario = {}\n",
        "print(dicionario)"
      ]
    },
    {
      "cell_type": "code",
      "source": [
        "print(type(dicionario))"
      ],
      "metadata": {
        "colab": {
          "base_uri": "https://localhost:8080/"
        },
        "id": "FxAMuTLhOuEW",
        "outputId": "e1eec7e4-9260-4c05-9fe3-f4cfa1a79ea9"
      },
      "execution_count": null,
      "outputs": [
        {
          "output_type": "stream",
          "name": "stdout",
          "text": [
            "<class 'dict'>\n"
          ]
        }
      ]
    },
    {
      "cell_type": "code",
      "source": [],
      "metadata": {
        "id": "goP_kSxzH16Z"
      },
      "execution_count": null,
      "outputs": []
    },
    {
      "cell_type": "code",
      "source": [
        "dicionario = dict(primeiro = 1, segundo = 2)\n",
        "print(dicionario)\n",
        "print(type(dicionario))"
      ],
      "metadata": {
        "colab": {
          "base_uri": "https://localhost:8080/"
        },
        "id": "Pn0OxrG6Ox3C",
        "outputId": "2f89ee8d-b515-4d60-9771-54a97b5d1ca2"
      },
      "execution_count": null,
      "outputs": [
        {
          "output_type": "stream",
          "name": "stdout",
          "text": [
            "{'primeiro': 1, 'segundo': 2}\n",
            "<class 'dict'>\n"
          ]
        }
      ]
    },
    {
      "cell_type": "code",
      "source": [
        "dicionario = {1:\"Carlos\", 2: \"Ana\", 3:\"Fabio\"}\n",
        "print(dicionario)"
      ],
      "metadata": {
        "colab": {
          "base_uri": "https://localhost:8080/"
        },
        "id": "64XSJ-MMPHT2",
        "outputId": "6688ed9f-1dd7-44a5-9178-e34e2725faac"
      },
      "execution_count": null,
      "outputs": [
        {
          "output_type": "stream",
          "name": "stdout",
          "text": [
            "{1: 'Carlos', 2: 'Ana', 3: 'Fabio'}\n"
          ]
        }
      ]
    },
    {
      "cell_type": "code",
      "source": [
        "dicionario = {\"nome\": \"Ana\", \"idade\":18, \"peso\": 60}\n",
        "print(dicionario)"
      ],
      "metadata": {
        "colab": {
          "base_uri": "https://localhost:8080/"
        },
        "id": "Qz4f0HhXPEE7",
        "outputId": "41e4d64a-5105-469b-8618-afbb989ef354"
      },
      "execution_count": null,
      "outputs": [
        {
          "output_type": "stream",
          "name": "stdout",
          "text": [
            "{'nome': 'Ana', 'idade': 18, 'peso': 60}\n"
          ]
        }
      ]
    },
    {
      "cell_type": "code",
      "source": [
        "print(len(dicionario))"
      ],
      "metadata": {
        "colab": {
          "base_uri": "https://localhost:8080/"
        },
        "id": "Y2y9_O5GPoPY",
        "outputId": "a998ae97-7179-48d0-afc4-5dc6f17458bb"
      },
      "execution_count": null,
      "outputs": [
        {
          "output_type": "stream",
          "name": "stdout",
          "text": [
            "3\n"
          ]
        }
      ]
    },
    {
      "cell_type": "code",
      "source": [
        "pessoa = {\"nome\": \"Ana\", \"idade\":18, \"peso\": 60, \"altura\": 1.67}"
      ],
      "metadata": {
        "id": "KjfaX2HoPs_C"
      },
      "execution_count": null,
      "outputs": []
    },
    {
      "cell_type": "code",
      "source": [
        "print(pessoa[\"idade\"])"
      ],
      "metadata": {
        "colab": {
          "base_uri": "https://localhost:8080/"
        },
        "id": "SEluCp1UP9B0",
        "outputId": "6e7f31ff-b56f-497b-bffc-278622019564"
      },
      "execution_count": null,
      "outputs": [
        {
          "output_type": "stream",
          "name": "stdout",
          "text": [
            "18\n"
          ]
        }
      ]
    },
    {
      "cell_type": "code",
      "source": [
        "#get()\n",
        "print(pessoa.get(\"nome\"))"
      ],
      "metadata": {
        "colab": {
          "base_uri": "https://localhost:8080/"
        },
        "id": "vkRngQ2zQANf",
        "outputId": "4b1ff15d-fbb1-4d6c-b69a-b6f7d87599ca"
      },
      "execution_count": null,
      "outputs": [
        {
          "output_type": "stream",
          "name": "stdout",
          "text": [
            "Ana\n"
          ]
        }
      ]
    },
    {
      "cell_type": "code",
      "source": [
        "#keys()\n",
        "print(pessoa.keys())"
      ],
      "metadata": {
        "colab": {
          "base_uri": "https://localhost:8080/"
        },
        "id": "YTtwRwAKQGfO",
        "outputId": "ed81ca51-ef61-4cbe-8914-32c364b54391"
      },
      "execution_count": null,
      "outputs": [
        {
          "output_type": "stream",
          "name": "stdout",
          "text": [
            "dict_keys(['nome', 'idade', 'peso', 'altura'])\n"
          ]
        }
      ]
    },
    {
      "cell_type": "code",
      "source": [
        "list(pessoa)"
      ],
      "metadata": {
        "colab": {
          "base_uri": "https://localhost:8080/"
        },
        "id": "fXb3UfOpQLyM",
        "outputId": "90460a6f-2912-4cc2-cd3a-030226a7ca05"
      },
      "execution_count": null,
      "outputs": [
        {
          "output_type": "execute_result",
          "data": {
            "text/plain": [
              "['nome', 'idade', 'peso', 'altura']"
            ]
          },
          "metadata": {},
          "execution_count": 14
        }
      ]
    },
    {
      "cell_type": "code",
      "source": [
        "#values\n",
        "print(pessoa. values())"
      ],
      "metadata": {
        "colab": {
          "base_uri": "https://localhost:8080/"
        },
        "id": "Ygy75DsXQOxY",
        "outputId": "3ab31fc1-fe78-4d22-8f5c-7aab9132a66d"
      },
      "execution_count": null,
      "outputs": [
        {
          "output_type": "stream",
          "name": "stdout",
          "text": [
            "dict_values(['Ana', 18, 60, 1.67])\n"
          ]
        }
      ]
    },
    {
      "cell_type": "code",
      "source": [
        "#pop()\n",
        "pessoa.pop(\"idade\")\n",
        "print(pessoa)"
      ],
      "metadata": {
        "colab": {
          "base_uri": "https://localhost:8080/"
        },
        "id": "TI09MbSgQSw9",
        "outputId": "21fd3811-1e67-4070-a6f2-a9f10b3b2985"
      },
      "execution_count": null,
      "outputs": [
        {
          "output_type": "stream",
          "name": "stdout",
          "text": [
            "{'nome': 'Ana', 'peso': 60, 'altura': 1.67}\n"
          ]
        }
      ]
    },
    {
      "cell_type": "code",
      "source": [
        "#del\n",
        "del pessoa[\"nome\"]\n",
        "print(pessoa)"
      ],
      "metadata": {
        "colab": {
          "base_uri": "https://localhost:8080/"
        },
        "id": "XUB7euiRQeY-",
        "outputId": "b396f7dc-4342-41d3-dce6-28a72eb48356"
      },
      "execution_count": null,
      "outputs": [
        {
          "output_type": "stream",
          "name": "stdout",
          "text": [
            "{'peso': 60, 'altura': 1.67}\n"
          ]
        }
      ]
    },
    {
      "cell_type": "code",
      "source": [
        "#popitem()\n",
        "pessoa.popitem()\n",
        "print(pessoa)"
      ],
      "metadata": {
        "colab": {
          "base_uri": "https://localhost:8080/"
        },
        "id": "W3NtgwXeQnRZ",
        "outputId": "8254a6fd-3b95-4b98-89c2-07ae9768bd94"
      },
      "execution_count": null,
      "outputs": [
        {
          "output_type": "stream",
          "name": "stdout",
          "text": [
            "{'peso': 60}\n"
          ]
        }
      ]
    },
    {
      "cell_type": "code",
      "source": [
        "#items()\n",
        "print(pessoa.items())"
      ],
      "metadata": {
        "colab": {
          "base_uri": "https://localhost:8080/"
        },
        "id": "5qHp3xiAQxRr",
        "outputId": "a7af9f8f-5e99-4bbe-c42d-56aeb309a189"
      },
      "execution_count": null,
      "outputs": [
        {
          "output_type": "stream",
          "name": "stdout",
          "text": [
            "dict_items([('peso', 60)])\n"
          ]
        }
      ]
    },
    {
      "cell_type": "code",
      "source": [
        "#adicionar itens\n",
        "pessoa[\"nome\"] = \"Carlos\"\n",
        "print(pessoa)"
      ],
      "metadata": {
        "colab": {
          "base_uri": "https://localhost:8080/"
        },
        "id": "kFJ5rlf7Q5IG",
        "outputId": "bc301dc7-019e-4f2d-9a58-158bf32a1f15"
      },
      "execution_count": null,
      "outputs": [
        {
          "output_type": "stream",
          "name": "stdout",
          "text": [
            "{'peso': 60, 'nome': 'Carlos'}\n"
          ]
        }
      ]
    },
    {
      "cell_type": "code",
      "source": [
        "#update()\n",
        "pessoa.update({\"nome\": \"Ana\"})\n",
        "print(pessoa)"
      ],
      "metadata": {
        "colab": {
          "base_uri": "https://localhost:8080/"
        },
        "id": "YnHdz-QbRLZu",
        "outputId": "9e22bc08-ca81-4c8c-a19c-c3f72525b40b"
      },
      "execution_count": null,
      "outputs": [
        {
          "output_type": "stream",
          "name": "stdout",
          "text": [
            "{'peso': 60, 'nome': 'Ana'}\n"
          ]
        }
      ]
    },
    {
      "cell_type": "code",
      "source": [
        "#clear()\n",
        "pessoa.clear()\n",
        "print(pessoa)"
      ],
      "metadata": {
        "colab": {
          "base_uri": "https://localhost:8080/"
        },
        "id": "O8dLQU6XRlGa",
        "outputId": "57d7e064-b0a5-481e-9625-4644c5b0f1a5"
      },
      "execution_count": null,
      "outputs": [
        {
          "output_type": "stream",
          "name": "stdout",
          "text": [
            "{}\n"
          ]
        }
      ]
    },
    {
      "cell_type": "code",
      "source": [
        "del pessoa"
      ],
      "metadata": {
        "id": "ppaytoC_RwpH"
      },
      "execution_count": null,
      "outputs": []
    }
  ]
}