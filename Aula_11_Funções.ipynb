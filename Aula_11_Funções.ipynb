{
  "nbformat": 4,
  "nbformat_minor": 0,
  "metadata": {
    "colab": {
      "provenance": [],
      "authorship_tag": "ABX9TyMDOycvDfDUnlBBHS/Xq1OK",
      "include_colab_link": true
    },
    "kernelspec": {
      "name": "python3",
      "display_name": "Python 3"
    },
    "language_info": {
      "name": "python"
    }
  },
  "cells": [
    {
      "cell_type": "markdown",
      "metadata": {
        "id": "view-in-github",
        "colab_type": "text"
      },
      "source": [
        "<a href=\"https://colab.research.google.com/github/pedrocacioli8/AulasSirius/blob/main/Aula_11_Fun%C3%A7%C3%B5es.ipynb\" target=\"_parent\"><img src=\"https://colab.research.google.com/assets/colab-badge.svg\" alt=\"Open In Colab\"/></a>"
      ]
    },
    {
      "cell_type": "code",
      "execution_count": null,
      "metadata": {
        "id": "BJdYItwkYhk_"
      },
      "outputs": [],
      "source": [
        "def funcao():\n",
        "  print(\"Olá, Mundo !\")"
      ]
    },
    {
      "cell_type": "code",
      "source": [
        "funcao()"
      ],
      "metadata": {
        "colab": {
          "base_uri": "https://localhost:8080/"
        },
        "id": "oDhPoeyoY78q",
        "outputId": "505601ac-a071-4dfe-b52c-770a40fdc2cd"
      },
      "execution_count": null,
      "outputs": [
        {
          "output_type": "stream",
          "name": "stdout",
          "text": [
            "Olá, Mundo !\n"
          ]
        }
      ]
    },
    {
      "cell_type": "code",
      "source": [
        "print(\"Olá mundo\")"
      ],
      "metadata": {
        "colab": {
          "base_uri": "https://localhost:8080/"
        },
        "id": "0J5dxGhoZLEt",
        "outputId": "dffe01f2-1c20-489e-84e2-f1cb9f048537"
      },
      "execution_count": null,
      "outputs": [
        {
          "output_type": "stream",
          "name": "stdout",
          "text": [
            "Olá mundo\n"
          ]
        }
      ]
    },
    {
      "cell_type": "code",
      "source": [
        "input(\"Digite um número: \")"
      ],
      "metadata": {
        "id": "rxrQ22eaZUKK"
      },
      "execution_count": null,
      "outputs": []
    },
    {
      "cell_type": "code",
      "source": [
        "min(4, 2)"
      ],
      "metadata": {
        "colab": {
          "base_uri": "https://localhost:8080/"
        },
        "id": "PTEwpSZbZaaO",
        "outputId": "1d2d7eeb-0a2e-4ef0-d2a3-19b30ff55038"
      },
      "execution_count": null,
      "outputs": [
        {
          "output_type": "execute_result",
          "data": {
            "text/plain": [
              "2"
            ]
          },
          "metadata": {},
          "execution_count": 4
        }
      ]
    },
    {
      "cell_type": "code",
      "source": [
        "min([4,2,3])"
      ],
      "metadata": {
        "colab": {
          "base_uri": "https://localhost:8080/"
        },
        "id": "5ulpFmuVZduE",
        "outputId": "3ce7d4bc-530f-4a49-ae26-1527a48d9a8e"
      },
      "execution_count": null,
      "outputs": [
        {
          "output_type": "execute_result",
          "data": {
            "text/plain": [
              "2"
            ]
          },
          "metadata": {},
          "execution_count": 5
        }
      ]
    },
    {
      "cell_type": "code",
      "source": [
        "max(4,2)"
      ],
      "metadata": {
        "colab": {
          "base_uri": "https://localhost:8080/"
        },
        "id": "JC3kXbXKZi52",
        "outputId": "5ba733e0-dc68-403c-e827-c22aedb8a367"
      },
      "execution_count": null,
      "outputs": [
        {
          "output_type": "execute_result",
          "data": {
            "text/plain": [
              "4"
            ]
          },
          "metadata": {},
          "execution_count": 6
        }
      ]
    },
    {
      "cell_type": "code",
      "source": [
        "max([4,2,3])"
      ],
      "metadata": {
        "colab": {
          "base_uri": "https://localhost:8080/"
        },
        "id": "QgEz8b1RZlR5",
        "outputId": "b4804b70-cebe-4a3a-fc71-5eb1e4ff7bf9"
      },
      "execution_count": null,
      "outputs": [
        {
          "output_type": "execute_result",
          "data": {
            "text/plain": [
              "4"
            ]
          },
          "metadata": {},
          "execution_count": 7
        }
      ]
    },
    {
      "cell_type": "code",
      "source": [
        "sum([1,2,3])"
      ],
      "metadata": {
        "colab": {
          "base_uri": "https://localhost:8080/"
        },
        "id": "dm3ogWv3ZoeQ",
        "outputId": "d4eadba1-68b7-46a1-ad94-86da94714625"
      },
      "execution_count": null,
      "outputs": [
        {
          "output_type": "execute_result",
          "data": {
            "text/plain": [
              "6"
            ]
          },
          "metadata": {},
          "execution_count": 8
        }
      ]
    },
    {
      "cell_type": "code",
      "source": [
        "def soma():\n",
        "  somar_numeros = 10 + 2\n",
        "\n",
        "  print(f\"A soma é igual a {somar_numeros}\")"
      ],
      "metadata": {
        "id": "SheO02q-ZrFp"
      },
      "execution_count": null,
      "outputs": []
    },
    {
      "cell_type": "code",
      "source": [
        "soma()"
      ],
      "metadata": {
        "colab": {
          "base_uri": "https://localhost:8080/"
        },
        "id": "MbD--xR2aECX",
        "outputId": "03d9a711-195f-46d9-fa02-951bbfeecd8b"
      },
      "execution_count": null,
      "outputs": [
        {
          "output_type": "stream",
          "name": "stdout",
          "text": [
            "A soma é igual a 12\n"
          ]
        }
      ]
    },
    {
      "cell_type": "code",
      "source": [
        "def soma_11(a, b):\n",
        "  somar_numeros = a + b\n",
        "  print(f\"A soma é igual a {somar_numeros}\")"
      ],
      "metadata": {
        "id": "t_oXX6EIaKZl"
      },
      "execution_count": null,
      "outputs": []
    },
    {
      "cell_type": "code",
      "source": [
        "soma_11(2, 8)"
      ],
      "metadata": {
        "colab": {
          "base_uri": "https://localhost:8080/"
        },
        "id": "fxjBYvJFauqw",
        "outputId": "87822767-696c-47bf-b910-3b2f9a2986e9"
      },
      "execution_count": null,
      "outputs": [
        {
          "output_type": "stream",
          "name": "stdout",
          "text": [
            "A soma é igual a 10\n"
          ]
        }
      ]
    },
    {
      "cell_type": "code",
      "source": [
        "soma_11(10, 20)"
      ],
      "metadata": {
        "colab": {
          "base_uri": "https://localhost:8080/"
        },
        "id": "iSAcBlIkbI2C",
        "outputId": "88415f7e-e7f8-4096-d1b3-f550ca49c483"
      },
      "execution_count": null,
      "outputs": [
        {
          "output_type": "stream",
          "name": "stdout",
          "text": [
            "A soma é igual a 30\n"
          ]
        }
      ]
    },
    {
      "cell_type": "code",
      "source": [
        "soma_11(100, 200)"
      ],
      "metadata": {
        "colab": {
          "base_uri": "https://localhost:8080/"
        },
        "id": "zhMJaRnObO5d",
        "outputId": "914984c4-8fc6-4e87-a6bf-29d01b0bbe5e"
      },
      "execution_count": null,
      "outputs": [
        {
          "output_type": "stream",
          "name": "stdout",
          "text": [
            "A soma é igual a 300\n"
          ]
        }
      ]
    },
    {
      "cell_type": "code",
      "source": [
        "def somar_111(a, b):\n",
        "  soma = a + b\n",
        "  return soma"
      ],
      "metadata": {
        "id": "KJADGRPLbUdF"
      },
      "execution_count": null,
      "outputs": []
    },
    {
      "cell_type": "code",
      "source": [
        "somar = somar_111(30, 40)"
      ],
      "metadata": {
        "id": "ljqVnkHObhXl"
      },
      "execution_count": null,
      "outputs": []
    },
    {
      "cell_type": "code",
      "source": [
        "print(f\"A soma é igual a {somar}\")"
      ],
      "metadata": {
        "colab": {
          "base_uri": "https://localhost:8080/"
        },
        "id": "v7iy4l1_b1fH",
        "outputId": "ec4150b0-f8d3-4796-c7c4-2ea906d9bc0b"
      },
      "execution_count": null,
      "outputs": [
        {
          "output_type": "stream",
          "name": "stdout",
          "text": [
            "A soma é igual a 70\n"
          ]
        }
      ]
    },
    {
      "cell_type": "code",
      "source": [
        "def soma_1111(a, b):\n",
        "\n",
        "  soma = a + b\n",
        "  media = (a + b) / 2\n",
        "\n",
        "  return soma, media"
      ],
      "metadata": {
        "id": "qFAZ4XUHcE29"
      },
      "execution_count": null,
      "outputs": []
    },
    {
      "cell_type": "code",
      "source": [
        "somar = soma_1111(100, 20)"
      ],
      "metadata": {
        "id": "1ijTtz2ucNPI"
      },
      "execution_count": null,
      "outputs": []
    },
    {
      "cell_type": "code",
      "source": [
        "print(somar)"
      ],
      "metadata": {
        "colab": {
          "base_uri": "https://localhost:8080/"
        },
        "id": "-UcNMTNYct2q",
        "outputId": "7682d0e5-7a47-4c4a-b75e-4d0b5117b586"
      },
      "execution_count": null,
      "outputs": [
        {
          "output_type": "stream",
          "name": "stdout",
          "text": [
            "(120, 60.0)\n"
          ]
        }
      ]
    },
    {
      "cell_type": "code",
      "source": [
        "print(type(somar))"
      ],
      "metadata": {
        "colab": {
          "base_uri": "https://localhost:8080/"
        },
        "id": "Vvbw2LlHcyZo",
        "outputId": "1459f74e-c3cd-4990-cbdf-7350653c9e2b"
      },
      "execution_count": null,
      "outputs": [
        {
          "output_type": "stream",
          "name": "stdout",
          "text": [
            "<class 'tuple'>\n"
          ]
        }
      ]
    },
    {
      "cell_type": "code",
      "source": [
        "soma, media = soma_1111(100, 20)"
      ],
      "metadata": {
        "id": "u3lBL7YLdBTQ"
      },
      "execution_count": null,
      "outputs": []
    },
    {
      "cell_type": "code",
      "source": [
        "print(soma)"
      ],
      "metadata": {
        "colab": {
          "base_uri": "https://localhost:8080/"
        },
        "id": "a9X2Tk_rdN0L",
        "outputId": "189ef4d0-cc60-4fb8-975a-38bd21570715"
      },
      "execution_count": null,
      "outputs": [
        {
          "output_type": "stream",
          "name": "stdout",
          "text": [
            "120\n"
          ]
        }
      ]
    },
    {
      "cell_type": "code",
      "source": [
        "print(media)"
      ],
      "metadata": {
        "colab": {
          "base_uri": "https://localhost:8080/"
        },
        "id": "QBbjrM0PdPKi",
        "outputId": "41aa99e6-318e-4a21-8ca3-769142c67b71"
      },
      "execution_count": null,
      "outputs": [
        {
          "output_type": "stream",
          "name": "stdout",
          "text": [
            "60.0\n"
          ]
        }
      ]
    },
    {
      "cell_type": "code",
      "source": [
        "def entrada_dados():\n",
        "  numero_1 = int(input(\"Digite um número: \"))\n",
        "  numero_2 = int(input(\"Digite outro número: \"))\n",
        "\n",
        "  soma = somar_111(numero_1, numero_2)\n",
        "  print( f\"A soma é igual a {soma}\")"
      ],
      "metadata": {
        "id": "s2NtIPZadTAw"
      },
      "execution_count": null,
      "outputs": []
    },
    {
      "cell_type": "code",
      "source": [
        "entrada_dados()"
      ],
      "metadata": {
        "id": "V6QzGuyLdxnz",
        "outputId": "d647fec1-d554-465e-e673-3497a163bdae",
        "colab": {
          "base_uri": "https://localhost:8080/"
        }
      },
      "execution_count": null,
      "outputs": [
        {
          "output_type": "stream",
          "name": "stdout",
          "text": [
            "Digite um número: 4\n",
            "Digite outro número: 4\n",
            "A soma é igual a 8\n"
          ]
        }
      ]
    }
  ]
}