{
  "nbformat": 4,
  "nbformat_minor": 0,
  "metadata": {
    "colab": {
      "provenance": [],
      "include_colab_link": true
    },
    "kernelspec": {
      "name": "python3",
      "display_name": "Python 3"
    },
    "language_info": {
      "name": "python"
    }
  },
  "cells": [
    {
      "cell_type": "markdown",
      "metadata": {
        "id": "view-in-github",
        "colab_type": "text"
      },
      "source": [
        "<a href=\"https://colab.research.google.com/github/pedrocacioli8/AulasSirius/blob/main/Exercicio_regressao_linear_simples_Pedro_Paulo_Cacioli_da_Silva.ipynb\" target=\"_parent\"><img src=\"https://colab.research.google.com/assets/colab-badge.svg\" alt=\"Open In Colab\"/></a>"
      ]
    },
    {
      "cell_type": "markdown",
      "source": [
        "Para esta atividade iremos usar um conjunto de dados sobre preços de imóveis. O conjunto original pode ser encontrado no [kaggle](https://www.kaggle.com/datasets/gunhee/koreahousedata). Os dados que usaremos foram alterados para facilitar as análises."
      ],
      "metadata": {
        "id": "mCtQu82oNqOK"
      }
    },
    {
      "cell_type": "markdown",
      "source": [
        "# Regressão Linear Simples\n",
        "\n",
        "## Atividade 1: Importe os dados e verifique se há dados faltantes."
      ],
      "metadata": {
        "id": "XLXxmGAJtwG-"
      }
    },
    {
      "cell_type": "code",
      "source": [
        "import pandas as pd"
      ],
      "metadata": {
        "id": "y56_clGbDaFv"
      },
      "execution_count": null,
      "outputs": []
    },
    {
      "cell_type": "code",
      "source": [
        "url='https://docs.google.com/spreadsheets/d/1v8Ygt3WVZ1z-WxpmTXgIUrJ_l09zNPvi/edit#gid=690350466'\n",
        "url='https://drive.google.com/uc?id=' + url.split('/')[-2]\n",
        "df = pd.read_excel(url)"
      ],
      "metadata": {
        "id": "_FZHpdVhoCeH"
      },
      "execution_count": null,
      "outputs": []
    },
    {
      "cell_type": "code",
      "source": [
        "df.info()"
      ],
      "metadata": {
        "id": "DJ2q7L1kqtYF",
        "colab": {
          "base_uri": "https://localhost:8080/"
        },
        "outputId": "e2aaa3a3-466e-494f-e261-9a544fedf407"
      },
      "execution_count": null,
      "outputs": [
        {
          "output_type": "stream",
          "name": "stdout",
          "text": [
            "<class 'pandas.core.frame.DataFrame'>\n",
            "RangeIndex: 5891 entries, 0 to 5890\n",
            "Data columns (total 18 columns):\n",
            " #   Column                           Non-Null Count  Dtype  \n",
            "---  ------                           --------------  -----  \n",
            " 0   preco                            5891 non-null   int64  \n",
            " 1   ano_construcao                   5891 non-null   int64  \n",
            " 2   ano_Venda                        5891 non-null   int64  \n",
            " 3   m2                               5891 non-null   float64\n",
            " 4   andar                            5891 non-null   int64  \n",
            " 5   tipo_Aquecimento                 5891 non-null   object \n",
            " 6   tempo_ate_onibus                 5891 non-null   object \n",
            " 7   tempo_ate_metro                  5891 non-null   object \n",
            " 8   qtde_elevadores                  5891 non-null   int64  \n",
            " 9   qtde_escritorios_publicos_perto  5891 non-null   int64  \n",
            " 10  qtde_hospitais_perto             5891 non-null   int64  \n",
            " 11  qtde_lojas_departamento_perto    5891 non-null   int64  \n",
            " 12  qtde_shoppings_perto             5891 non-null   int64  \n",
            " 13  qtde_estacionamentos_perto       5891 non-null   int64  \n",
            " 14  qtde_escolas_fundamental1_perto  5891 non-null   int64  \n",
            " 15  qtde_escolas_fundamental2_perto  5891 non-null   int64  \n",
            " 16  qtde_escolas_medio_perto         5891 non-null   int64  \n",
            " 17  qtde_universidades_perto         5891 non-null   int64  \n",
            "dtypes: float64(1), int64(14), object(3)\n",
            "memory usage: 828.5+ KB\n"
          ]
        }
      ]
    },
    {
      "cell_type": "markdown",
      "source": [
        "## Atividade 2: Selecione apenas as variáveis `preco` e `m2`, aplique o logaritmo natural na variável `m2` e verifique a correlação entre as variáveis."
      ],
      "metadata": {
        "id": "0w7txBL-wAmA"
      }
    },
    {
      "cell_type": "code",
      "source": [
        "df_selecionado = df[['preco','m2']]"
      ],
      "metadata": {
        "id": "0-S8z6nQwRnp"
      },
      "execution_count": null,
      "outputs": []
    },
    {
      "cell_type": "code",
      "source": [
        "import numpy as np\n",
        "\n",
        "#Aplicado o log para que os pressupostos sejam atendidos\n",
        "\n",
        "df_selecionado['m2'] = np.log(df_selecionado['m2'])"
      ],
      "metadata": {
        "id": "MA6b2JMXNWsg",
        "colab": {
          "base_uri": "https://localhost:8080/"
        },
        "outputId": "cf64e121-4e59-4b81-9528-144c8d90d165"
      },
      "execution_count": null,
      "outputs": [
        {
          "output_type": "stream",
          "name": "stderr",
          "text": [
            "<ipython-input-17-8e2b9adcdf37>:2: SettingWithCopyWarning: \n",
            "A value is trying to be set on a copy of a slice from a DataFrame.\n",
            "Try using .loc[row_indexer,col_indexer] = value instead\n",
            "\n",
            "See the caveats in the documentation: https://pandas.pydata.org/pandas-docs/stable/user_guide/indexing.html#returning-a-view-versus-a-copy\n",
            "  df_selecionado['m2'] = np.log(df_selecionado['m2'])\n"
          ]
        }
      ]
    },
    {
      "cell_type": "code",
      "source": [
        "df_selecionado.corr()"
      ],
      "metadata": {
        "id": "Il-OushrNEQM",
        "colab": {
          "base_uri": "https://localhost:8080/",
          "height": 112
        },
        "outputId": "6aaedd24-c346-42cd-b86a-a0d493f71fed"
      },
      "execution_count": null,
      "outputs": [
        {
          "output_type": "execute_result",
          "data": {
            "text/plain": [
              "          preco        m2\n",
              "preco  1.000000  0.706048\n",
              "m2     0.706048  1.000000"
            ],
            "text/html": [
              "\n",
              "  <div id=\"df-68efdc82-0d83-4171-ab99-ac85cb40b6a5\" class=\"colab-df-container\">\n",
              "    <div>\n",
              "<style scoped>\n",
              "    .dataframe tbody tr th:only-of-type {\n",
              "        vertical-align: middle;\n",
              "    }\n",
              "\n",
              "    .dataframe tbody tr th {\n",
              "        vertical-align: top;\n",
              "    }\n",
              "\n",
              "    .dataframe thead th {\n",
              "        text-align: right;\n",
              "    }\n",
              "</style>\n",
              "<table border=\"1\" class=\"dataframe\">\n",
              "  <thead>\n",
              "    <tr style=\"text-align: right;\">\n",
              "      <th></th>\n",
              "      <th>preco</th>\n",
              "      <th>m2</th>\n",
              "    </tr>\n",
              "  </thead>\n",
              "  <tbody>\n",
              "    <tr>\n",
              "      <th>preco</th>\n",
              "      <td>1.000000</td>\n",
              "      <td>0.706048</td>\n",
              "    </tr>\n",
              "    <tr>\n",
              "      <th>m2</th>\n",
              "      <td>0.706048</td>\n",
              "      <td>1.000000</td>\n",
              "    </tr>\n",
              "  </tbody>\n",
              "</table>\n",
              "</div>\n",
              "    <div class=\"colab-df-buttons\">\n",
              "\n",
              "  <div class=\"colab-df-container\">\n",
              "    <button class=\"colab-df-convert\" onclick=\"convertToInteractive('df-68efdc82-0d83-4171-ab99-ac85cb40b6a5')\"\n",
              "            title=\"Convert this dataframe to an interactive table.\"\n",
              "            style=\"display:none;\">\n",
              "\n",
              "  <svg xmlns=\"http://www.w3.org/2000/svg\" height=\"24px\" viewBox=\"0 -960 960 960\">\n",
              "    <path d=\"M120-120v-720h720v720H120Zm60-500h600v-160H180v160Zm220 220h160v-160H400v160Zm0 220h160v-160H400v160ZM180-400h160v-160H180v160Zm440 0h160v-160H620v160ZM180-180h160v-160H180v160Zm440 0h160v-160H620v160Z\"/>\n",
              "  </svg>\n",
              "    </button>\n",
              "\n",
              "  <style>\n",
              "    .colab-df-container {\n",
              "      display:flex;\n",
              "      gap: 12px;\n",
              "    }\n",
              "\n",
              "    .colab-df-convert {\n",
              "      background-color: #E8F0FE;\n",
              "      border: none;\n",
              "      border-radius: 50%;\n",
              "      cursor: pointer;\n",
              "      display: none;\n",
              "      fill: #1967D2;\n",
              "      height: 32px;\n",
              "      padding: 0 0 0 0;\n",
              "      width: 32px;\n",
              "    }\n",
              "\n",
              "    .colab-df-convert:hover {\n",
              "      background-color: #E2EBFA;\n",
              "      box-shadow: 0px 1px 2px rgba(60, 64, 67, 0.3), 0px 1px 3px 1px rgba(60, 64, 67, 0.15);\n",
              "      fill: #174EA6;\n",
              "    }\n",
              "\n",
              "    .colab-df-buttons div {\n",
              "      margin-bottom: 4px;\n",
              "    }\n",
              "\n",
              "    [theme=dark] .colab-df-convert {\n",
              "      background-color: #3B4455;\n",
              "      fill: #D2E3FC;\n",
              "    }\n",
              "\n",
              "    [theme=dark] .colab-df-convert:hover {\n",
              "      background-color: #434B5C;\n",
              "      box-shadow: 0px 1px 3px 1px rgba(0, 0, 0, 0.15);\n",
              "      filter: drop-shadow(0px 1px 2px rgba(0, 0, 0, 0.3));\n",
              "      fill: #FFFFFF;\n",
              "    }\n",
              "  </style>\n",
              "\n",
              "    <script>\n",
              "      const buttonEl =\n",
              "        document.querySelector('#df-68efdc82-0d83-4171-ab99-ac85cb40b6a5 button.colab-df-convert');\n",
              "      buttonEl.style.display =\n",
              "        google.colab.kernel.accessAllowed ? 'block' : 'none';\n",
              "\n",
              "      async function convertToInteractive(key) {\n",
              "        const element = document.querySelector('#df-68efdc82-0d83-4171-ab99-ac85cb40b6a5');\n",
              "        const dataTable =\n",
              "          await google.colab.kernel.invokeFunction('convertToInteractive',\n",
              "                                                    [key], {});\n",
              "        if (!dataTable) return;\n",
              "\n",
              "        const docLinkHtml = 'Like what you see? Visit the ' +\n",
              "          '<a target=\"_blank\" href=https://colab.research.google.com/notebooks/data_table.ipynb>data table notebook</a>'\n",
              "          + ' to learn more about interactive tables.';\n",
              "        element.innerHTML = '';\n",
              "        dataTable['output_type'] = 'display_data';\n",
              "        await google.colab.output.renderOutput(dataTable, element);\n",
              "        const docLink = document.createElement('div');\n",
              "        docLink.innerHTML = docLinkHtml;\n",
              "        element.appendChild(docLink);\n",
              "      }\n",
              "    </script>\n",
              "  </div>\n",
              "\n",
              "\n",
              "<div id=\"df-d976366a-3111-46a7-8fe5-1336d7353c21\">\n",
              "  <button class=\"colab-df-quickchart\" onclick=\"quickchart('df-d976366a-3111-46a7-8fe5-1336d7353c21')\"\n",
              "            title=\"Suggest charts.\"\n",
              "            style=\"display:none;\">\n",
              "\n",
              "<svg xmlns=\"http://www.w3.org/2000/svg\" height=\"24px\"viewBox=\"0 0 24 24\"\n",
              "     width=\"24px\">\n",
              "    <g>\n",
              "        <path d=\"M19 3H5c-1.1 0-2 .9-2 2v14c0 1.1.9 2 2 2h14c1.1 0 2-.9 2-2V5c0-1.1-.9-2-2-2zM9 17H7v-7h2v7zm4 0h-2V7h2v10zm4 0h-2v-4h2v4z\"/>\n",
              "    </g>\n",
              "</svg>\n",
              "  </button>\n",
              "\n",
              "<style>\n",
              "  .colab-df-quickchart {\n",
              "      --bg-color: #E8F0FE;\n",
              "      --fill-color: #1967D2;\n",
              "      --hover-bg-color: #E2EBFA;\n",
              "      --hover-fill-color: #174EA6;\n",
              "      --disabled-fill-color: #AAA;\n",
              "      --disabled-bg-color: #DDD;\n",
              "  }\n",
              "\n",
              "  [theme=dark] .colab-df-quickchart {\n",
              "      --bg-color: #3B4455;\n",
              "      --fill-color: #D2E3FC;\n",
              "      --hover-bg-color: #434B5C;\n",
              "      --hover-fill-color: #FFFFFF;\n",
              "      --disabled-bg-color: #3B4455;\n",
              "      --disabled-fill-color: #666;\n",
              "  }\n",
              "\n",
              "  .colab-df-quickchart {\n",
              "    background-color: var(--bg-color);\n",
              "    border: none;\n",
              "    border-radius: 50%;\n",
              "    cursor: pointer;\n",
              "    display: none;\n",
              "    fill: var(--fill-color);\n",
              "    height: 32px;\n",
              "    padding: 0;\n",
              "    width: 32px;\n",
              "  }\n",
              "\n",
              "  .colab-df-quickchart:hover {\n",
              "    background-color: var(--hover-bg-color);\n",
              "    box-shadow: 0 1px 2px rgba(60, 64, 67, 0.3), 0 1px 3px 1px rgba(60, 64, 67, 0.15);\n",
              "    fill: var(--button-hover-fill-color);\n",
              "  }\n",
              "\n",
              "  .colab-df-quickchart-complete:disabled,\n",
              "  .colab-df-quickchart-complete:disabled:hover {\n",
              "    background-color: var(--disabled-bg-color);\n",
              "    fill: var(--disabled-fill-color);\n",
              "    box-shadow: none;\n",
              "  }\n",
              "\n",
              "  .colab-df-spinner {\n",
              "    border: 2px solid var(--fill-color);\n",
              "    border-color: transparent;\n",
              "    border-bottom-color: var(--fill-color);\n",
              "    animation:\n",
              "      spin 1s steps(1) infinite;\n",
              "  }\n",
              "\n",
              "  @keyframes spin {\n",
              "    0% {\n",
              "      border-color: transparent;\n",
              "      border-bottom-color: var(--fill-color);\n",
              "      border-left-color: var(--fill-color);\n",
              "    }\n",
              "    20% {\n",
              "      border-color: transparent;\n",
              "      border-left-color: var(--fill-color);\n",
              "      border-top-color: var(--fill-color);\n",
              "    }\n",
              "    30% {\n",
              "      border-color: transparent;\n",
              "      border-left-color: var(--fill-color);\n",
              "      border-top-color: var(--fill-color);\n",
              "      border-right-color: var(--fill-color);\n",
              "    }\n",
              "    40% {\n",
              "      border-color: transparent;\n",
              "      border-right-color: var(--fill-color);\n",
              "      border-top-color: var(--fill-color);\n",
              "    }\n",
              "    60% {\n",
              "      border-color: transparent;\n",
              "      border-right-color: var(--fill-color);\n",
              "    }\n",
              "    80% {\n",
              "      border-color: transparent;\n",
              "      border-right-color: var(--fill-color);\n",
              "      border-bottom-color: var(--fill-color);\n",
              "    }\n",
              "    90% {\n",
              "      border-color: transparent;\n",
              "      border-bottom-color: var(--fill-color);\n",
              "    }\n",
              "  }\n",
              "</style>\n",
              "\n",
              "  <script>\n",
              "    async function quickchart(key) {\n",
              "      const quickchartButtonEl =\n",
              "        document.querySelector('#' + key + ' button');\n",
              "      quickchartButtonEl.disabled = true;  // To prevent multiple clicks.\n",
              "      quickchartButtonEl.classList.add('colab-df-spinner');\n",
              "      try {\n",
              "        const charts = await google.colab.kernel.invokeFunction(\n",
              "            'suggestCharts', [key], {});\n",
              "      } catch (error) {\n",
              "        console.error('Error during call to suggestCharts:', error);\n",
              "      }\n",
              "      quickchartButtonEl.classList.remove('colab-df-spinner');\n",
              "      quickchartButtonEl.classList.add('colab-df-quickchart-complete');\n",
              "    }\n",
              "    (() => {\n",
              "      let quickchartButtonEl =\n",
              "        document.querySelector('#df-d976366a-3111-46a7-8fe5-1336d7353c21 button');\n",
              "      quickchartButtonEl.style.display =\n",
              "        google.colab.kernel.accessAllowed ? 'block' : 'none';\n",
              "    })();\n",
              "  </script>\n",
              "</div>\n",
              "    </div>\n",
              "  </div>\n"
            ]
          },
          "metadata": {},
          "execution_count": 18
        }
      ]
    },
    {
      "cell_type": "markdown",
      "source": [
        "## Atividade 3: Crie um modelo de regressão linear simples e encontre os coeficientes do modelo."
      ],
      "metadata": {
        "id": "_H6juqPrLTTq"
      }
    },
    {
      "cell_type": "code",
      "source": [
        "# importando statsmodels\n",
        "import statsmodels.api as sm\n",
        "\n",
        "# separando as variáveis X e y\n",
        "X = df_selecionado['preco']\n",
        "y = df_selecionado['m2']\n",
        "\n",
        "# adicionando o termo constante ao modelo\n",
        "X = sm.add_constant(X)\n",
        "\n",
        "# estimando o modelo de regressão linear\n",
        "modelo1 = sm.OLS(y, X).fit()\n",
        "\n",
        "# obtendo estatísticas sobre o modelo\n",
        "print(modelo1.summary())"
      ],
      "metadata": {
        "id": "hO6cQFNioCcl",
        "colab": {
          "base_uri": "https://localhost:8080/"
        },
        "outputId": "5f8a52b9-9315-4012-8c8a-1a321053d28e"
      },
      "execution_count": null,
      "outputs": [
        {
          "output_type": "stream",
          "name": "stdout",
          "text": [
            "                            OLS Regression Results                            \n",
            "==============================================================================\n",
            "Dep. Variable:                     m2   R-squared:                       0.499\n",
            "Model:                            OLS   Adj. R-squared:                  0.498\n",
            "Method:                 Least Squares   F-statistic:                     5854.\n",
            "Date:                Thu, 26 Oct 2023   Prob (F-statistic):               0.00\n",
            "Time:                        22:26:45   Log-Likelihood:                -1249.7\n",
            "No. Observations:                5891   AIC:                             2503.\n",
            "Df Residuals:                    5889   BIC:                             2517.\n",
            "Df Model:                           1                                         \n",
            "Covariance Type:            nonrobust                                         \n",
            "==============================================================================\n",
            "                 coef    std err          t      P>|t|      [0.025      0.975]\n",
            "------------------------------------------------------------------------------\n",
            "const          3.7835      0.009    420.604      0.000       3.766       3.801\n",
            "preco       4.673e-07   6.11e-09     76.511      0.000    4.55e-07    4.79e-07\n",
            "==============================================================================\n",
            "Omnibus:                      796.361   Durbin-Watson:                   1.115\n",
            "Prob(Omnibus):                  0.000   Jarque-Bera (JB):             3539.586\n",
            "Skew:                          -0.593   Prob(JB):                         0.00\n",
            "Kurtosis:                       6.607   Cond. No.                     3.40e+06\n",
            "==============================================================================\n",
            "\n",
            "Notes:\n",
            "[1] Standard Errors assume that the covariance matrix of the errors is correctly specified.\n",
            "[2] The condition number is large, 3.4e+06. This might indicate that there are\n",
            "strong multicollinearity or other numerical problems.\n"
          ]
        }
      ]
    },
    {
      "cell_type": "markdown",
      "source": [
        "Y = 3,7835 + 0,00000004673X"
      ],
      "metadata": {
        "id": "HkAFyqQ0HPr0"
      }
    },
    {
      "cell_type": "code",
      "execution_count": null,
      "metadata": {
        "id": "Eo2w7S54r-Ai",
        "colab": {
          "base_uri": "https://localhost:8080/"
        },
        "outputId": "311fc9da-4695-48e8-b86f-507719ba92a0"
      },
      "outputs": [
        {
          "output_type": "execute_result",
          "data": {
            "text/plain": [
              "const    3.783517e+00\n",
              "preco    4.673069e-07\n",
              "dtype: float64"
            ]
          },
          "metadata": {},
          "execution_count": 20
        }
      ],
      "source": [
        "modelo1.params"
      ]
    },
    {
      "cell_type": "markdown",
      "source": [
        "## Atividade 4: Verifique os pressupostos da regressão linear."
      ],
      "metadata": {
        "id": "n9are8ehMDJl"
      }
    },
    {
      "cell_type": "code",
      "source": [
        "# prevendo valores para X\n",
        "y_pred1 = modelo1.predict(X)\n",
        "\n",
        "# calculando os resíduos\n",
        "res1 = y - y_pred1"
      ],
      "metadata": {
        "id": "ijqQoXL041-F"
      },
      "execution_count": null,
      "outputs": []
    },
    {
      "cell_type": "markdown",
      "source": [
        "Linearidade"
      ],
      "metadata": {
        "id": "98VVXB_-vy_7"
      }
    },
    {
      "cell_type": "code",
      "source": [
        "import seaborn as sns\n",
        "\n",
        "sns.scatterplot(data=df_selecionado, x='preco', y='m2');"
      ],
      "metadata": {
        "id": "NDAe-65gv0_r",
        "colab": {
          "base_uri": "https://localhost:8080/",
          "height": 452
        },
        "outputId": "dbbd557b-1b07-4fbd-8c97-f02b310a3278"
      },
      "execution_count": null,
      "outputs": [
        {
          "output_type": "display_data",
          "data": {
            "text/plain": [
              "<Figure size 640x480 with 1 Axes>"
            ],
            "image/png": "[encoded data removed]"
          },
          "metadata": {}
        }
      ]
    },
    {
      "cell_type": "markdown",
      "source": [
        "Homocedasticidade\n",
        "\n",
        "Vamos checar a homocedasticidade com um teste de hipótese: Goldfeld Quandt. Este teste pode ser realizado importando-se a função `statsmodels.stats.api.het_goldfeldquandt()`.\n",
        "\n",
        "Neste teste, a hipótese nula é de que há homocedasticidade."
      ],
      "metadata": {
        "id": "WtkZeNJ68CAY"
      }
    },
    {
      "cell_type": "code",
      "source": [
        "from statsmodels.stats.api import het_goldfeldquandt\n",
        "\n",
        "stat, p_valor, _ = het_goldfeldquandt(res1, X)\n",
        "p_valor"
      ],
      "metadata": {
        "id": "WM8AkHaOy2rQ",
        "colab": {
          "base_uri": "https://localhost:8080/"
        },
        "outputId": "d8340b3c-a6ec-48f9-dddc-39576db7a534"
      },
      "execution_count": null,
      "outputs": [
        {
          "output_type": "execute_result",
          "data": {
            "text/plain": [
              "1.4201150402749108e-54"
            ]
          },
          "metadata": {},
          "execution_count": 23
        }
      ]
    },
    {
      "cell_type": "markdown",
      "source": [
        "p-valor é menor do que 0.05, portanto, a hipótese nula é rejeitada,ou seja, não há homocedasticidade"
      ],
      "metadata": {
        "id": "GN1suAH6QBni"
      }
    },
    {
      "cell_type": "markdown",
      "source": [
        "Normalidade dos Resíduos\n",
        "\n",
        "Vamos checar a normalidadde dos resíduos usando o teste de hipóteses de Shapiro-Wilk. Neste caso, a hipótese nula é que a amostra segue distribuição normal. Podemos realizar este teste importando a função `scipy.stats.shapiro()`."
      ],
      "metadata": {
        "id": "iRQGANwz8FMw"
      }
    },
    {
      "cell_type": "code",
      "source": [
        "from scipy.stats import shapiro\n",
        "\n",
        "stat, p_valor = shapiro(res1)\n",
        "p_valor"
      ],
      "metadata": {
        "id": "0tzcAmvw4DWg",
        "colab": {
          "base_uri": "https://localhost:8080/"
        },
        "outputId": "de49a044-93e9-4c15-bf87-d3583884dc04"
      },
      "execution_count": null,
      "outputs": [
        {
          "output_type": "stream",
          "name": "stderr",
          "text": [
            "/usr/local/lib/python3.10/dist-packages/scipy/stats/_morestats.py:1882: UserWarning: p-value may not be accurate for N > 5000.\n",
            "  warnings.warn(\"p-value may not be accurate for N > 5000.\")\n"
          ]
        },
        {
          "output_type": "execute_result",
          "data": {
            "text/plain": [
              "3.263343863719634e-41"
            ]
          },
          "metadata": {},
          "execution_count": 24
        }
      ]
    },
    {
      "cell_type": "markdown",
      "source": [
        "p-valor é menor do que 0.05, portanto, a hipótese nula é rejeitada,ou seja, não há uma distribuição normal"
      ],
      "metadata": {
        "id": "4V0VXBSxRoHY"
      }
    },
    {
      "cell_type": "markdown",
      "source": [
        "Autocorrelação dos Resíduos\n",
        "\n",
        "Para checar se há autocorrelação entre os resíduos vamos usar o teste de hipótese de Durbin Watson. Ele pode ser importado do `statsmodels` com a sintaxe `statsmodels.stats.stattolls.durbin_watons()`."
      ],
      "metadata": {
        "id": "v1OgQlgz8Ix9"
      }
    },
    {
      "cell_type": "code",
      "source": [
        "from statsmodels.stats.stattools import durbin_watson\n",
        "\n",
        "durbin_watson(res1)"
      ],
      "metadata": {
        "id": "Ew5rKJ9y64-0",
        "colab": {
          "base_uri": "https://localhost:8080/"
        },
        "outputId": "8865c3f5-a090-4346-e800-de02d13e4f43"
      },
      "execution_count": null,
      "outputs": [
        {
          "output_type": "execute_result",
          "data": {
            "text/plain": [
              "1.1145739077880175"
            ]
          },
          "metadata": {},
          "execution_count": 25
        }
      ]
    },
    {
      "cell_type": "markdown",
      "source": [
        "O valor é menor do que 1.5, o que indica que há correlação"
      ],
      "metadata": {
        "id": "KSjvbGH0R11z"
      }
    },
    {
      "cell_type": "markdown",
      "source": [
        "Para decidirmor se há ou não autocorrelação dos resíduos, devemos observar o valor do teste. Valores entre 1.5 e 2.5 indicam que não há autocorrelação, valores fora dessa faixa indicam que há autocorrelação."
      ],
      "metadata": {
        "id": "9IcMU2g32eke"
      }
    },
    {
      "cell_type": "markdown",
      "source": [
        "Multicolinearidade\n",
        "\n"
      ],
      "metadata": {
        "id": "vueVPgKiyj9O"
      }
    },
    {
      "cell_type": "code",
      "source": [
        "# Como só há um valor de X, não faz sentido calcular multicolinearidade"
      ],
      "metadata": {
        "id": "k98pU7-QeBQW"
      },
      "execution_count": null,
      "outputs": []
    },
    {
      "cell_type": "markdown",
      "source": [
        "# Regressão Linear Múltipla\n",
        "\n",
        "## Atividade 5: Crie um modelo de regressão linear múltipla.\n",
        "\n",
        "Para facilitar o trabalho, vamos deixar um pré processamento pronto."
      ],
      "metadata": {
        "id": "lBkwAWg-omOk"
      }
    },
    {
      "cell_type": "code",
      "source": [
        "# importando os dados\n",
        "\n",
        "df.head()"
      ],
      "metadata": {
        "id": "wpKZbiPT8iBm",
        "colab": {
          "base_uri": "https://localhost:8080/",
          "height": 226
        },
        "outputId": "a29f37fc-fa2f-41c7-a832-d86ef32a4d66"
      },
      "execution_count": null,
      "outputs": [
        {
          "output_type": "execute_result",
          "data": {
            "text/plain": [
              "     preco  ano_construcao  ano_Venda          m2  andar tipo_Aquecimento  \\\n",
              "0   849552            2006       2007   75.623042      3       individual   \n",
              "1   307962            1985       2007   54.534061      8       individual   \n",
              "2   292032            1985       2007   54.534061      6       individual   \n",
              "3  2283180            2006       2007  191.008568      8       individual   \n",
              "4  1327428            1993       2007  163.602183      3       individual   \n",
              "\n",
              "  tempo_ate_onibus tempo_ate_metro  qtde_elevadores  \\\n",
              "0       5min~10min     10min~15min                0   \n",
              "1           0~5min      5min~10min                2   \n",
              "2           0~5min      5min~10min                2   \n",
              "3           0~5min          0-5min               11   \n",
              "4           0~5min     15min~20min               20   \n",
              "\n",
              "   qtde_escritorios_publicos_perto  qtde_hospitais_perto  \\\n",
              "0                                2                     1   \n",
              "1                                5                     1   \n",
              "2                                5                     1   \n",
              "3                                1                     1   \n",
              "4                                6                     2   \n",
              "\n",
              "   qtde_lojas_departamento_perto  qtde_shoppings_perto  \\\n",
              "0                              1                     1   \n",
              "1                              2                     1   \n",
              "2                              2                     1   \n",
              "3                              0                     1   \n",
              "4                              0                     1   \n",
              "\n",
              "   qtde_estacionamentos_perto  qtde_escolas_fundamental1_perto  \\\n",
              "0                           0                                3   \n",
              "1                           1                                2   \n",
              "2                           1                                2   \n",
              "3                           0                                2   \n",
              "4                           0                                4   \n",
              "\n",
              "   qtde_escolas_fundamental2_perto  qtde_escolas_medio_perto  \\\n",
              "0                                2                         2   \n",
              "1                                1                         1   \n",
              "2                                1                         1   \n",
              "3                                2                         1   \n",
              "4                                3                         5   \n",
              "\n",
              "   qtde_universidades_perto  \n",
              "0                         2  \n",
              "1                         0  \n",
              "2                         0  \n",
              "3                         2  \n",
              "4                         5  "
            ],
            "text/html": [
              "\n",
              "  <div id=\"df-79ffcfbf-050d-489a-b113-ee46bfe5ea49\" class=\"colab-df-container\">\n",
              "    <div>\n",
              "<style scoped>\n",
              "    .dataframe tbody tr th:only-of-type {\n",
              "        vertical-align: middle;\n",
              "    }\n",
              "\n",
              "    .dataframe tbody tr th {\n",
              "        vertical-align: top;\n",
              "    }\n",
              "\n",
              "    .dataframe thead th {\n",
              "        text-align: right;\n",
              "    }\n",
              "</style>\n",
              "<table border=\"1\" class=\"dataframe\">\n",
              "  <thead>\n",
              "    <tr style=\"text-align: right;\">\n",
              "      <th></th>\n",
              "      <th>preco</th>\n",
              "      <th>ano_construcao</th>\n",
              "      <th>ano_Venda</th>\n",
              "      <th>m2</th>\n",
              "      <th>andar</th>\n",
              "      <th>tipo_Aquecimento</th>\n",
              "      <th>tempo_ate_onibus</th>\n",
              "      <th>tempo_ate_metro</th>\n",
              "      <th>qtde_elevadores</th>\n",
              "      <th>qtde_escritorios_publicos_perto</th>\n",
              "      <th>qtde_hospitais_perto</th>\n",
              "      <th>qtde_lojas_departamento_perto</th>\n",
              "      <th>qtde_shoppings_perto</th>\n",
              "      <th>qtde_estacionamentos_perto</th>\n",
              "      <th>qtde_escolas_fundamental1_perto</th>\n",
              "      <th>qtde_escolas_fundamental2_perto</th>\n",
              "      <th>qtde_escolas_medio_perto</th>\n",
              "      <th>qtde_universidades_perto</th>\n",
              "    </tr>\n",
              "  </thead>\n",
              "  <tbody>\n",
              "    <tr>\n",
              "      <th>0</th>\n",
              "      <td>849552</td>\n",
              "      <td>2006</td>\n",
              "      <td>2007</td>\n",
              "      <td>75.623042</td>\n",
              "      <td>3</td>\n",
              "      <td>individual</td>\n",
              "      <td>5min~10min</td>\n",
              "      <td>10min~15min</td>\n",
              "      <td>0</td>\n",
              "      <td>2</td>\n",
              "      <td>1</td>\n",
              "      <td>1</td>\n",
              "      <td>1</td>\n",
              "      <td>0</td>\n",
              "      <td>3</td>\n",
              "      <td>2</td>\n",
              "      <td>2</td>\n",
              "      <td>2</td>\n",
              "    </tr>\n",
              "    <tr>\n",
              "      <th>1</th>\n",
              "      <td>307962</td>\n",
              "      <td>1985</td>\n",
              "      <td>2007</td>\n",
              "      <td>54.534061</td>\n",
              "      <td>8</td>\n",
              "      <td>individual</td>\n",
              "      <td>0~5min</td>\n",
              "      <td>5min~10min</td>\n",
              "      <td>2</td>\n",
              "      <td>5</td>\n",
              "      <td>1</td>\n",
              "      <td>2</td>\n",
              "      <td>1</td>\n",
              "      <td>1</td>\n",
              "      <td>2</td>\n",
              "      <td>1</td>\n",
              "      <td>1</td>\n",
              "      <td>0</td>\n",
              "    </tr>\n",
              "    <tr>\n",
              "      <th>2</th>\n",
              "      <td>292032</td>\n",
              "      <td>1985</td>\n",
              "      <td>2007</td>\n",
              "      <td>54.534061</td>\n",
              "      <td>6</td>\n",
              "      <td>individual</td>\n",
              "      <td>0~5min</td>\n",
              "      <td>5min~10min</td>\n",
              "      <td>2</td>\n",
              "      <td>5</td>\n",
              "      <td>1</td>\n",
              "      <td>2</td>\n",
              "      <td>1</td>\n",
              "      <td>1</td>\n",
              "      <td>2</td>\n",
              "      <td>1</td>\n",
              "      <td>1</td>\n",
              "      <td>0</td>\n",
              "    </tr>\n",
              "    <tr>\n",
              "      <th>3</th>\n",
              "      <td>2283180</td>\n",
              "      <td>2006</td>\n",
              "      <td>2007</td>\n",
              "      <td>191.008568</td>\n",
              "      <td>8</td>\n",
              "      <td>individual</td>\n",
              "      <td>0~5min</td>\n",
              "      <td>0-5min</td>\n",
              "      <td>11</td>\n",
              "      <td>1</td>\n",
              "      <td>1</td>\n",
              "      <td>0</td>\n",
              "      <td>1</td>\n",
              "      <td>0</td>\n",
              "      <td>2</td>\n",
              "      <td>2</td>\n",
              "      <td>1</td>\n",
              "      <td>2</td>\n",
              "    </tr>\n",
              "    <tr>\n",
              "      <th>4</th>\n",
              "      <td>1327428</td>\n",
              "      <td>1993</td>\n",
              "      <td>2007</td>\n",
              "      <td>163.602183</td>\n",
              "      <td>3</td>\n",
              "      <td>individual</td>\n",
              "      <td>0~5min</td>\n",
              "      <td>15min~20min</td>\n",
              "      <td>20</td>\n",
              "      <td>6</td>\n",
              "      <td>2</td>\n",
              "      <td>0</td>\n",
              "      <td>1</td>\n",
              "      <td>0</td>\n",
              "      <td>4</td>\n",
              "      <td>3</td>\n",
              "      <td>5</td>\n",
              "      <td>5</td>\n",
              "    </tr>\n",
              "  </tbody>\n",
              "</table>\n",
              "</div>\n",
              "    <div class=\"colab-df-buttons\">\n",
              "\n",
              "  <div class=\"colab-df-container\">\n",
              "    <button class=\"colab-df-convert\" onclick=\"convertToInteractive('df-79ffcfbf-050d-489a-b113-ee46bfe5ea49')\"\n",
              "            title=\"Convert this dataframe to an interactive table.\"\n",
              "            style=\"display:none;\">\n",
              "\n",
              "  <svg xmlns=\"http://www.w3.org/2000/svg\" height=\"24px\" viewBox=\"0 -960 960 960\">\n",
              "    <path d=\"M120-120v-720h720v720H120Zm60-500h600v-160H180v160Zm220 220h160v-160H400v160Zm0 220h160v-160H400v160ZM180-400h160v-160H180v160Zm440 0h160v-160H620v160ZM180-180h160v-160H180v160Zm440 0h160v-160H620v160Z\"/>\n",
              "  </svg>\n",
              "    </button>\n",
              "\n",
              "  <style>\n",
              "    .colab-df-container {\n",
              "      display:flex;\n",
              "      gap: 12px;\n",
              "    }\n",
              "\n",
              "    .colab-df-convert {\n",
              "      background-color: #E8F0FE;\n",
              "      border: none;\n",
              "      border-radius: 50%;\n",
              "      cursor: pointer;\n",
              "      display: none;\n",
              "      fill: #1967D2;\n",
              "      height: 32px;\n",
              "      padding: 0 0 0 0;\n",
              "      width: 32px;\n",
              "    }\n",
              "\n",
              "    .colab-df-convert:hover {\n",
              "      background-color: #E2EBFA;\n",
              "      box-shadow: 0px 1px 2px rgba(60, 64, 67, 0.3), 0px 1px 3px 1px rgba(60, 64, 67, 0.15);\n",
              "      fill: #174EA6;\n",
              "    }\n",
              "\n",
              "    .colab-df-buttons div {\n",
              "      margin-bottom: 4px;\n",
              "    }\n",
              "\n",
              "    [theme=dark] .colab-df-convert {\n",
              "      background-color: #3B4455;\n",
              "      fill: #D2E3FC;\n",
              "    }\n",
              "\n",
              "    [theme=dark] .colab-df-convert:hover {\n",
              "      background-color: #434B5C;\n",
              "      box-shadow: 0px 1px 3px 1px rgba(0, 0, 0, 0.15);\n",
              "      filter: drop-shadow(0px 1px 2px rgba(0, 0, 0, 0.3));\n",
              "      fill: #FFFFFF;\n",
              "    }\n",
              "  </style>\n",
              "\n",
              "    <script>\n",
              "      const buttonEl =\n",
              "        document.querySelector('#df-79ffcfbf-050d-489a-b113-ee46bfe5ea49 button.colab-df-convert');\n",
              "      buttonEl.style.display =\n",
              "        google.colab.kernel.accessAllowed ? 'block' : 'none';\n",
              "\n",
              "      async function convertToInteractive(key) {\n",
              "        const element = document.querySelector('#df-79ffcfbf-050d-489a-b113-ee46bfe5ea49');\n",
              "        const dataTable =\n",
              "          await google.colab.kernel.invokeFunction('convertToInteractive',\n",
              "                                                    [key], {});\n",
              "        if (!dataTable) return;\n",
              "\n",
              "        const docLinkHtml = 'Like what you see? Visit the ' +\n",
              "          '<a target=\"_blank\" href=https://colab.research.google.com/notebooks/data_table.ipynb>data table notebook</a>'\n",
              "          + ' to learn more about interactive tables.';\n",
              "        element.innerHTML = '';\n",
              "        dataTable['output_type'] = 'display_data';\n",
              "        await google.colab.output.renderOutput(dataTable, element);\n",
              "        const docLink = document.createElement('div');\n",
              "        docLink.innerHTML = docLinkHtml;\n",
              "        element.appendChild(docLink);\n",
              "      }\n",
              "    </script>\n",
              "  </div>\n",
              "\n",
              "\n",
              "<div id=\"df-1d209c0c-69ae-4804-8dbf-9d8435ca0afe\">\n",
              "  <button class=\"colab-df-quickchart\" onclick=\"quickchart('df-1d209c0c-69ae-4804-8dbf-9d8435ca0afe')\"\n",
              "            title=\"Suggest charts.\"\n",
              "            style=\"display:none;\">\n",
              "\n",
              "<svg xmlns=\"http://www.w3.org/2000/svg\" height=\"24px\"viewBox=\"0 0 24 24\"\n",
              "     width=\"24px\">\n",
              "    <g>\n",
              "        <path d=\"M19 3H5c-1.1 0-2 .9-2 2v14c0 1.1.9 2 2 2h14c1.1 0 2-.9 2-2V5c0-1.1-.9-2-2-2zM9 17H7v-7h2v7zm4 0h-2V7h2v10zm4 0h-2v-4h2v4z\"/>\n",
              "    </g>\n",
              "</svg>\n",
              "  </button>\n",
              "\n",
              "<style>\n",
              "  .colab-df-quickchart {\n",
              "      --bg-color: #E8F0FE;\n",
              "      --fill-color: #1967D2;\n",
              "      --hover-bg-color: #E2EBFA;\n",
              "      --hover-fill-color: #174EA6;\n",
              "      --disabled-fill-color: #AAA;\n",
              "      --disabled-bg-color: #DDD;\n",
              "  }\n",
              "\n",
              "  [theme=dark] .colab-df-quickchart {\n",
              "      --bg-color: #3B4455;\n",
              "      --fill-color: #D2E3FC;\n",
              "      --hover-bg-color: #434B5C;\n",
              "      --hover-fill-color: #FFFFFF;\n",
              "      --disabled-bg-color: #3B4455;\n",
              "      --disabled-fill-color: #666;\n",
              "  }\n",
              "\n",
              "  .colab-df-quickchart {\n",
              "    background-color: var(--bg-color);\n",
              "    border: none;\n",
              "    border-radius: 50%;\n",
              "    cursor: pointer;\n",
              "    display: none;\n",
              "    fill: var(--fill-color);\n",
              "    height: 32px;\n",
              "    padding: 0;\n",
              "    width: 32px;\n",
              "  }\n",
              "\n",
              "  .colab-df-quickchart:hover {\n",
              "    background-color: var(--hover-bg-color);\n",
              "    box-shadow: 0 1px 2px rgba(60, 64, 67, 0.3), 0 1px 3px 1px rgba(60, 64, 67, 0.15);\n",
              "    fill: var(--button-hover-fill-color);\n",
              "  }\n",
              "\n",
              "  .colab-df-quickchart-complete:disabled,\n",
              "  .colab-df-quickchart-complete:disabled:hover {\n",
              "    background-color: var(--disabled-bg-color);\n",
              "    fill: var(--disabled-fill-color);\n",
              "    box-shadow: none;\n",
              "  }\n",
              "\n",
              "  .colab-df-spinner {\n",
              "    border: 2px solid var(--fill-color);\n",
              "    border-color: transparent;\n",
              "    border-bottom-color: var(--fill-color);\n",
              "    animation:\n",
              "      spin 1s steps(1) infinite;\n",
              "  }\n",
              "\n",
              "  @keyframes spin {\n",
              "    0% {\n",
              "      border-color: transparent;\n",
              "      border-bottom-color: var(--fill-color);\n",
              "      border-left-color: var(--fill-color);\n",
              "    }\n",
              "    20% {\n",
              "      border-color: transparent;\n",
              "      border-left-color: var(--fill-color);\n",
              "      border-top-color: var(--fill-color);\n",
              "    }\n",
              "    30% {\n",
              "      border-color: transparent;\n",
              "      border-left-color: var(--fill-color);\n",
              "      border-top-color: var(--fill-color);\n",
              "      border-right-color: var(--fill-color);\n",
              "    }\n",
              "    40% {\n",
              "      border-color: transparent;\n",
              "      border-right-color: var(--fill-color);\n",
              "      border-top-color: var(--fill-color);\n",
              "    }\n",
              "    60% {\n",
              "      border-color: transparent;\n",
              "      border-right-color: var(--fill-color);\n",
              "    }\n",
              "    80% {\n",
              "      border-color: transparent;\n",
              "      border-right-color: var(--fill-color);\n",
              "      border-bottom-color: var(--fill-color);\n",
              "    }\n",
              "    90% {\n",
              "      border-color: transparent;\n",
              "      border-bottom-color: var(--fill-color);\n",
              "    }\n",
              "  }\n",
              "</style>\n",
              "\n",
              "  <script>\n",
              "    async function quickchart(key) {\n",
              "      const quickchartButtonEl =\n",
              "        document.querySelector('#' + key + ' button');\n",
              "      quickchartButtonEl.disabled = true;  // To prevent multiple clicks.\n",
              "      quickchartButtonEl.classList.add('colab-df-spinner');\n",
              "      try {\n",
              "        const charts = await google.colab.kernel.invokeFunction(\n",
              "            'suggestCharts', [key], {});\n",
              "      } catch (error) {\n",
              "        console.error('Error during call to suggestCharts:', error);\n",
              "      }\n",
              "      quickchartButtonEl.classList.remove('colab-df-spinner');\n",
              "      quickchartButtonEl.classList.add('colab-df-quickchart-complete');\n",
              "    }\n",
              "    (() => {\n",
              "      let quickchartButtonEl =\n",
              "        document.querySelector('#df-1d209c0c-69ae-4804-8dbf-9d8435ca0afe button');\n",
              "      quickchartButtonEl.style.display =\n",
              "        google.colab.kernel.accessAllowed ? 'block' : 'none';\n",
              "    })();\n",
              "  </script>\n",
              "</div>\n",
              "    </div>\n",
              "  </div>\n"
            ]
          },
          "metadata": {},
          "execution_count": 27
        }
      ]
    },
    {
      "cell_type": "code",
      "source": [
        "# Vamos condensar algumas variáveis em uma única\n",
        "df['qtde_servicos'] = df['qtde_hospitais_perto'] + \\\n",
        "                      df['qtde_lojas_departamento_perto'] + \\\n",
        "                      df['qtde_escritorios_publicos_perto'] + \\\n",
        "                      df['qtde_escolas_fundamental1_perto'] + \\\n",
        "                      df['qtde_escolas_fundamental2_perto'] + \\\n",
        "                      df['qtde_escolas_medio_perto'] + \\\n",
        "                      df['qtde_universidades_perto']\n",
        "\n",
        "# excluindo as variáveis originais do DataFrame\n",
        "df.drop(['qtde_hospitais_perto','qtde_lojas_departamento_perto',\n",
        "         'qtde_escritorios_publicos_perto','qtde_escolas_fundamental1_perto',\n",
        "         'qtde_escolas_fundamental2_perto','qtde_escolas_medio_perto',\n",
        "         'qtde_universidades_perto'],\n",
        "        axis=1, inplace=True)"
      ],
      "metadata": {
        "id": "j6T3etwMDMcd"
      },
      "execution_count": null,
      "outputs": []
    },
    {
      "cell_type": "code",
      "source": [
        "# criando nova variável\n",
        "df['qtde_conveniencia'] = df['qtde_shoppings_perto'] + df['qtde_estacionamentos_perto']\n",
        "\n",
        "# excluindo variáveis do DataFrame\n",
        "df.drop(['qtde_shoppings_perto','qtde_estacionamentos_perto'],\n",
        "        axis=1, inplace=True)\n",
        "\n",
        "df.head()"
      ],
      "metadata": {
        "colab": {
          "base_uri": "https://localhost:8080/",
          "height": 226
        },
        "id": "qfvV2oIiFGcu",
        "outputId": "729a1dd9-3ea9-44e3-e167-d46997180073"
      },
      "execution_count": null,
      "outputs": [
        {
          "output_type": "execute_result",
          "data": {
            "text/plain": [
              "     preco  ano_construcao  ano_Venda          m2  andar tipo_Aquecimento  \\\n",
              "0   849552            2006       2007   75.623042      3       individual   \n",
              "1   307962            1985       2007   54.534061      8       individual   \n",
              "2   292032            1985       2007   54.534061      6       individual   \n",
              "3  2283180            2006       2007  191.008568      8       individual   \n",
              "4  1327428            1993       2007  163.602183      3       individual   \n",
              "\n",
              "  tempo_ate_onibus tempo_ate_metro  qtde_elevadores  qtde_servicos  \\\n",
              "0       5min~10min     10min~15min                0             13   \n",
              "1           0~5min      5min~10min                2             12   \n",
              "2           0~5min      5min~10min                2             12   \n",
              "3           0~5min          0-5min               11              9   \n",
              "4           0~5min     15min~20min               20             25   \n",
              "\n",
              "   qtde_conveniencia  \n",
              "0                  1  \n",
              "1                  2  \n",
              "2                  2  \n",
              "3                  1  \n",
              "4                  1  "
            ],
            "text/html": [
              "\n",
              "  <div id=\"df-0e20faf3-f9dc-4131-913e-ecfaed22a34b\" class=\"colab-df-container\">\n",
              "    <div>\n",
              "<style scoped>\n",
              "    .dataframe tbody tr th:only-of-type {\n",
              "        vertical-align: middle;\n",
              "    }\n",
              "\n",
              "    .dataframe tbody tr th {\n",
              "        vertical-align: top;\n",
              "    }\n",
              "\n",
              "    .dataframe thead th {\n",
              "        text-align: right;\n",
              "    }\n",
              "</style>\n",
              "<table border=\"1\" class=\"dataframe\">\n",
              "  <thead>\n",
              "    <tr style=\"text-align: right;\">\n",
              "      <th></th>\n",
              "      <th>preco</th>\n",
              "      <th>ano_construcao</th>\n",
              "      <th>ano_Venda</th>\n",
              "      <th>m2</th>\n",
              "      <th>andar</th>\n",
              "      <th>tipo_Aquecimento</th>\n",
              "      <th>tempo_ate_onibus</th>\n",
              "      <th>tempo_ate_metro</th>\n",
              "      <th>qtde_elevadores</th>\n",
              "      <th>qtde_servicos</th>\n",
              "      <th>qtde_conveniencia</th>\n",
              "    </tr>\n",
              "  </thead>\n",
              "  <tbody>\n",
              "    <tr>\n",
              "      <th>0</th>\n",
              "      <td>849552</td>\n",
              "      <td>2006</td>\n",
              "      <td>2007</td>\n",
              "      <td>75.623042</td>\n",
              "      <td>3</td>\n",
              "      <td>individual</td>\n",
              "      <td>5min~10min</td>\n",
              "      <td>10min~15min</td>\n",
              "      <td>0</td>\n",
              "      <td>13</td>\n",
              "      <td>1</td>\n",
              "    </tr>\n",
              "    <tr>\n",
              "      <th>1</th>\n",
              "      <td>307962</td>\n",
              "      <td>1985</td>\n",
              "      <td>2007</td>\n",
              "      <td>54.534061</td>\n",
              "      <td>8</td>\n",
              "      <td>individual</td>\n",
              "      <td>0~5min</td>\n",
              "      <td>5min~10min</td>\n",
              "      <td>2</td>\n",
              "      <td>12</td>\n",
              "      <td>2</td>\n",
              "    </tr>\n",
              "    <tr>\n",
              "      <th>2</th>\n",
              "      <td>292032</td>\n",
              "      <td>1985</td>\n",
              "      <td>2007</td>\n",
              "      <td>54.534061</td>\n",
              "      <td>6</td>\n",
              "      <td>individual</td>\n",
              "      <td>0~5min</td>\n",
              "      <td>5min~10min</td>\n",
              "      <td>2</td>\n",
              "      <td>12</td>\n",
              "      <td>2</td>\n",
              "    </tr>\n",
              "    <tr>\n",
              "      <th>3</th>\n",
              "      <td>2283180</td>\n",
              "      <td>2006</td>\n",
              "      <td>2007</td>\n",
              "      <td>191.008568</td>\n",
              "      <td>8</td>\n",
              "      <td>individual</td>\n",
              "      <td>0~5min</td>\n",
              "      <td>0-5min</td>\n",
              "      <td>11</td>\n",
              "      <td>9</td>\n",
              "      <td>1</td>\n",
              "    </tr>\n",
              "    <tr>\n",
              "      <th>4</th>\n",
              "      <td>1327428</td>\n",
              "      <td>1993</td>\n",
              "      <td>2007</td>\n",
              "      <td>163.602183</td>\n",
              "      <td>3</td>\n",
              "      <td>individual</td>\n",
              "      <td>0~5min</td>\n",
              "      <td>15min~20min</td>\n",
              "      <td>20</td>\n",
              "      <td>25</td>\n",
              "      <td>1</td>\n",
              "    </tr>\n",
              "  </tbody>\n",
              "</table>\n",
              "</div>\n",
              "    <div class=\"colab-df-buttons\">\n",
              "\n",
              "  <div class=\"colab-df-container\">\n",
              "    <button class=\"colab-df-convert\" onclick=\"convertToInteractive('df-0e20faf3-f9dc-4131-913e-ecfaed22a34b')\"\n",
              "            title=\"Convert this dataframe to an interactive table.\"\n",
              "            style=\"display:none;\">\n",
              "\n",
              "  <svg xmlns=\"http://www.w3.org/2000/svg\" height=\"24px\" viewBox=\"0 -960 960 960\">\n",
              "    <path d=\"M120-120v-720h720v720H120Zm60-500h600v-160H180v160Zm220 220h160v-160H400v160Zm0 220h160v-160H400v160ZM180-400h160v-160H180v160Zm440 0h160v-160H620v160ZM180-180h160v-160H180v160Zm440 0h160v-160H620v160Z\"/>\n",
              "  </svg>\n",
              "    </button>\n",
              "\n",
              "  <style>\n",
              "    .colab-df-container {\n",
              "      display:flex;\n",
              "      gap: 12px;\n",
              "    }\n",
              "\n",
              "    .colab-df-convert {\n",
              "      background-color: #E8F0FE;\n",
              "      border: none;\n",
              "      border-radius: 50%;\n",
              "      cursor: pointer;\n",
              "      display: none;\n",
              "      fill: #1967D2;\n",
              "      height: 32px;\n",
              "      padding: 0 0 0 0;\n",
              "      width: 32px;\n",
              "    }\n",
              "\n",
              "    .colab-df-convert:hover {\n",
              "      background-color: #E2EBFA;\n",
              "      box-shadow: 0px 1px 2px rgba(60, 64, 67, 0.3), 0px 1px 3px 1px rgba(60, 64, 67, 0.15);\n",
              "      fill: #174EA6;\n",
              "    }\n",
              "\n",
              "    .colab-df-buttons div {\n",
              "      margin-bottom: 4px;\n",
              "    }\n",
              "\n",
              "    [theme=dark] .colab-df-convert {\n",
              "      background-color: #3B4455;\n",
              "      fill: #D2E3FC;\n",
              "    }\n",
              "\n",
              "    [theme=dark] .colab-df-convert:hover {\n",
              "      background-color: #434B5C;\n",
              "      box-shadow: 0px 1px 3px 1px rgba(0, 0, 0, 0.15);\n",
              "      filter: drop-shadow(0px 1px 2px rgba(0, 0, 0, 0.3));\n",
              "      fill: #FFFFFF;\n",
              "    }\n",
              "  </style>\n",
              "\n",
              "    <script>\n",
              "      const buttonEl =\n",
              "        document.querySelector('#df-0e20faf3-f9dc-4131-913e-ecfaed22a34b button.colab-df-convert');\n",
              "      buttonEl.style.display =\n",
              "        google.colab.kernel.accessAllowed ? 'block' : 'none';\n",
              "\n",
              "      async function convertToInteractive(key) {\n",
              "        const element = document.querySelector('#df-0e20faf3-f9dc-4131-913e-ecfaed22a34b');\n",
              "        const dataTable =\n",
              "          await google.colab.kernel.invokeFunction('convertToInteractive',\n",
              "                                                    [key], {});\n",
              "        if (!dataTable) return;\n",
              "\n",
              "        const docLinkHtml = 'Like what you see? Visit the ' +\n",
              "          '<a target=\"_blank\" href=https://colab.research.google.com/notebooks/data_table.ipynb>data table notebook</a>'\n",
              "          + ' to learn more about interactive tables.';\n",
              "        element.innerHTML = '';\n",
              "        dataTable['output_type'] = 'display_data';\n",
              "        await google.colab.output.renderOutput(dataTable, element);\n",
              "        const docLink = document.createElement('div');\n",
              "        docLink.innerHTML = docLinkHtml;\n",
              "        element.appendChild(docLink);\n",
              "      }\n",
              "    </script>\n",
              "  </div>\n",
              "\n",
              "\n",
              "<div id=\"df-647c6f43-b0e2-4a72-9b05-db98f3b80f14\">\n",
              "  <button class=\"colab-df-quickchart\" onclick=\"quickchart('df-647c6f43-b0e2-4a72-9b05-db98f3b80f14')\"\n",
              "            title=\"Suggest charts.\"\n",
              "            style=\"display:none;\">\n",
              "\n",
              "<svg xmlns=\"http://www.w3.org/2000/svg\" height=\"24px\"viewBox=\"0 0 24 24\"\n",
              "     width=\"24px\">\n",
              "    <g>\n",
              "        <path d=\"M19 3H5c-1.1 0-2 .9-2 2v14c0 1.1.9 2 2 2h14c1.1 0 2-.9 2-2V5c0-1.1-.9-2-2-2zM9 17H7v-7h2v7zm4 0h-2V7h2v10zm4 0h-2v-4h2v4z\"/>\n",
              "    </g>\n",
              "</svg>\n",
              "  </button>\n",
              "\n",
              "<style>\n",
              "  .colab-df-quickchart {\n",
              "      --bg-color: #E8F0FE;\n",
              "      --fill-color: #1967D2;\n",
              "      --hover-bg-color: #E2EBFA;\n",
              "      --hover-fill-color: #174EA6;\n",
              "      --disabled-fill-color: #AAA;\n",
              "      --disabled-bg-color: #DDD;\n",
              "  }\n",
              "\n",
              "  [theme=dark] .colab-df-quickchart {\n",
              "      --bg-color: #3B4455;\n",
              "      --fill-color: #D2E3FC;\n",
              "      --hover-bg-color: #434B5C;\n",
              "      --hover-fill-color: #FFFFFF;\n",
              "      --disabled-bg-color: #3B4455;\n",
              "      --disabled-fill-color: #666;\n",
              "  }\n",
              "\n",
              "  .colab-df-quickchart {\n",
              "    background-color: var(--bg-color);\n",
              "    border: none;\n",
              "    border-radius: 50%;\n",
              "    cursor: pointer;\n",
              "    display: none;\n",
              "    fill: var(--fill-color);\n",
              "    height: 32px;\n",
              "    padding: 0;\n",
              "    width: 32px;\n",
              "  }\n",
              "\n",
              "  .colab-df-quickchart:hover {\n",
              "    background-color: var(--hover-bg-color);\n",
              "    box-shadow: 0 1px 2px rgba(60, 64, 67, 0.3), 0 1px 3px 1px rgba(60, 64, 67, 0.15);\n",
              "    fill: var(--button-hover-fill-color);\n",
              "  }\n",
              "\n",
              "  .colab-df-quickchart-complete:disabled,\n",
              "  .colab-df-quickchart-complete:disabled:hover {\n",
              "    background-color: var(--disabled-bg-color);\n",
              "    fill: var(--disabled-fill-color);\n",
              "    box-shadow: none;\n",
              "  }\n",
              "\n",
              "  .colab-df-spinner {\n",
              "    border: 2px solid var(--fill-color);\n",
              "    border-color: transparent;\n",
              "    border-bottom-color: var(--fill-color);\n",
              "    animation:\n",
              "      spin 1s steps(1) infinite;\n",
              "  }\n",
              "\n",
              "  @keyframes spin {\n",
              "    0% {\n",
              "      border-color: transparent;\n",
              "      border-bottom-color: var(--fill-color);\n",
              "      border-left-color: var(--fill-color);\n",
              "    }\n",
              "    20% {\n",
              "      border-color: transparent;\n",
              "      border-left-color: var(--fill-color);\n",
              "      border-top-color: var(--fill-color);\n",
              "    }\n",
              "    30% {\n",
              "      border-color: transparent;\n",
              "      border-left-color: var(--fill-color);\n",
              "      border-top-color: var(--fill-color);\n",
              "      border-right-color: var(--fill-color);\n",
              "    }\n",
              "    40% {\n",
              "      border-color: transparent;\n",
              "      border-right-color: var(--fill-color);\n",
              "      border-top-color: var(--fill-color);\n",
              "    }\n",
              "    60% {\n",
              "      border-color: transparent;\n",
              "      border-right-color: var(--fill-color);\n",
              "    }\n",
              "    80% {\n",
              "      border-color: transparent;\n",
              "      border-right-color: var(--fill-color);\n",
              "      border-bottom-color: var(--fill-color);\n",
              "    }\n",
              "    90% {\n",
              "      border-color: transparent;\n",
              "      border-bottom-color: var(--fill-color);\n",
              "    }\n",
              "  }\n",
              "</style>\n",
              "\n",
              "  <script>\n",
              "    async function quickchart(key) {\n",
              "      const quickchartButtonEl =\n",
              "        document.querySelector('#' + key + ' button');\n",
              "      quickchartButtonEl.disabled = true;  // To prevent multiple clicks.\n",
              "      quickchartButtonEl.classList.add('colab-df-spinner');\n",
              "      try {\n",
              "        const charts = await google.colab.kernel.invokeFunction(\n",
              "            'suggestCharts', [key], {});\n",
              "      } catch (error) {\n",
              "        console.error('Error during call to suggestCharts:', error);\n",
              "      }\n",
              "      quickchartButtonEl.classList.remove('colab-df-spinner');\n",
              "      quickchartButtonEl.classList.add('colab-df-quickchart-complete');\n",
              "    }\n",
              "    (() => {\n",
              "      let quickchartButtonEl =\n",
              "        document.querySelector('#df-647c6f43-b0e2-4a72-9b05-db98f3b80f14 button');\n",
              "      quickchartButtonEl.style.display =\n",
              "        google.colab.kernel.accessAllowed ? 'block' : 'none';\n",
              "    })();\n",
              "  </script>\n",
              "</div>\n",
              "    </div>\n",
              "  </div>\n"
            ]
          },
          "metadata": {},
          "execution_count": 29
        }
      ]
    },
    {
      "cell_type": "code",
      "source": [
        "# aplicando One Hot Encoding à variável tipo_Aquecimento\n",
        "df_aux = pd.get_dummies(df['tipo_Aquecimento'], prefix='tipo_Aquecimento')\n",
        "df = pd.concat([df, df_aux], axis=1)\n",
        "df.drop(['tipo_Aquecimento', 'tipo_Aquecimento_central'], axis=1, inplace=True)"
      ],
      "metadata": {
        "id": "AmA0pXNAFGVk"
      },
      "execution_count": null,
      "outputs": []
    },
    {
      "cell_type": "code",
      "source": [
        "# aplicando One Hot Encoding à variável tempo_ate_onibus\n",
        "df_aux = pd.get_dummies(df['tempo_ate_onibus'], prefix='tempo_ate_onibus')\n",
        "df = pd.concat([df, df_aux], axis=1)\n",
        "df.drop(['tempo_ate_onibus', 'tempo_ate_onibus_10min~15min'], axis=1, inplace=True)"
      ],
      "metadata": {
        "id": "Ta7KXcf2RFXL"
      },
      "execution_count": null,
      "outputs": []
    },
    {
      "cell_type": "code",
      "source": [
        "# aplicando One Hot Encoding à variável tempo_ate_metro\n",
        "df_aux = pd.get_dummies(df['tempo_ate_metro'], prefix='tempo_ate_metro')\n",
        "df = pd.concat([df, df_aux], axis=1)\n",
        "df.drop(['tempo_ate_metro', 'tempo_ate_metro_no_bus_stop_nearby'], axis=1, inplace=True)\n",
        "df.head()"
      ],
      "metadata": {
        "colab": {
          "base_uri": "https://localhost:8080/",
          "height": 243
        },
        "id": "EZjExHtUK0qZ",
        "outputId": "f0d06b30-16d7-4180-a314-96780ab23684"
      },
      "execution_count": null,
      "outputs": [
        {
          "output_type": "execute_result",
          "data": {
            "text/plain": [
              "     preco  ano_construcao  ano_Venda          m2  andar  qtde_elevadores  \\\n",
              "0   849552            2006       2007   75.623042      3                0   \n",
              "1   307962            1985       2007   54.534061      8                2   \n",
              "2   292032            1985       2007   54.534061      6                2   \n",
              "3  2283180            2006       2007  191.008568      8               11   \n",
              "4  1327428            1993       2007  163.602183      3               20   \n",
              "\n",
              "   qtde_servicos  qtde_conveniencia  tipo_Aquecimento_individual  \\\n",
              "0             13                  1                            1   \n",
              "1             12                  2                            1   \n",
              "2             12                  2                            1   \n",
              "3              9                  1                            1   \n",
              "4             25                  1                            1   \n",
              "\n",
              "   tempo_ate_onibus_0~5min  tempo_ate_onibus_5min~10min  \\\n",
              "0                        0                            1   \n",
              "1                        1                            0   \n",
              "2                        1                            0   \n",
              "3                        1                            0   \n",
              "4                        1                            0   \n",
              "\n",
              "   tempo_ate_metro_0-5min  tempo_ate_metro_10min~15min  \\\n",
              "0                       0                            1   \n",
              "1                       0                            0   \n",
              "2                       0                            0   \n",
              "3                       1                            0   \n",
              "4                       0                            0   \n",
              "\n",
              "   tempo_ate_metro_15min~20min  tempo_ate_metro_5min~10min  \n",
              "0                            0                           0  \n",
              "1                            0                           1  \n",
              "2                            0                           1  \n",
              "3                            0                           0  \n",
              "4                            1                           0  "
            ],
            "text/html": [
              "\n",
              "  <div id=\"df-f4b05cd0-c6a6-42c6-914f-e9ccf32d057c\" class=\"colab-df-container\">\n",
              "    <div>\n",
              "<style scoped>\n",
              "    .dataframe tbody tr th:only-of-type {\n",
              "        vertical-align: middle;\n",
              "    }\n",
              "\n",
              "    .dataframe tbody tr th {\n",
              "        vertical-align: top;\n",
              "    }\n",
              "\n",
              "    .dataframe thead th {\n",
              "        text-align: right;\n",
              "    }\n",
              "</style>\n",
              "<table border=\"1\" class=\"dataframe\">\n",
              "  <thead>\n",
              "    <tr style=\"text-align: right;\">\n",
              "      <th></th>\n",
              "      <th>preco</th>\n",
              "      <th>ano_construcao</th>\n",
              "      <th>ano_Venda</th>\n",
              "      <th>m2</th>\n",
              "      <th>andar</th>\n",
              "      <th>qtde_elevadores</th>\n",
              "      <th>qtde_servicos</th>\n",
              "      <th>qtde_conveniencia</th>\n",
              "      <th>tipo_Aquecimento_individual</th>\n",
              "      <th>tempo_ate_onibus_0~5min</th>\n",
              "      <th>tempo_ate_onibus_5min~10min</th>\n",
              "      <th>tempo_ate_metro_0-5min</th>\n",
              "      <th>tempo_ate_metro_10min~15min</th>\n",
              "      <th>tempo_ate_metro_15min~20min</th>\n",
              "      <th>tempo_ate_metro_5min~10min</th>\n",
              "    </tr>\n",
              "  </thead>\n",
              "  <tbody>\n",
              "    <tr>\n",
              "      <th>0</th>\n",
              "      <td>849552</td>\n",
              "      <td>2006</td>\n",
              "      <td>2007</td>\n",
              "      <td>75.623042</td>\n",
              "      <td>3</td>\n",
              "      <td>0</td>\n",
              "      <td>13</td>\n",
              "      <td>1</td>\n",
              "      <td>1</td>\n",
              "      <td>0</td>\n",
              "      <td>1</td>\n",
              "      <td>0</td>\n",
              "      <td>1</td>\n",
              "      <td>0</td>\n",
              "      <td>0</td>\n",
              "    </tr>\n",
              "    <tr>\n",
              "      <th>1</th>\n",
              "      <td>307962</td>\n",
              "      <td>1985</td>\n",
              "      <td>2007</td>\n",
              "      <td>54.534061</td>\n",
              "      <td>8</td>\n",
              "      <td>2</td>\n",
              "      <td>12</td>\n",
              "      <td>2</td>\n",
              "      <td>1</td>\n",
              "      <td>1</td>\n",
              "      <td>0</td>\n",
              "      <td>0</td>\n",
              "      <td>0</td>\n",
              "      <td>0</td>\n",
              "      <td>1</td>\n",
              "    </tr>\n",
              "    <tr>\n",
              "      <th>2</th>\n",
              "      <td>292032</td>\n",
              "      <td>1985</td>\n",
              "      <td>2007</td>\n",
              "      <td>54.534061</td>\n",
              "      <td>6</td>\n",
              "      <td>2</td>\n",
              "      <td>12</td>\n",
              "      <td>2</td>\n",
              "      <td>1</td>\n",
              "      <td>1</td>\n",
              "      <td>0</td>\n",
              "      <td>0</td>\n",
              "      <td>0</td>\n",
              "      <td>0</td>\n",
              "      <td>1</td>\n",
              "    </tr>\n",
              "    <tr>\n",
              "      <th>3</th>\n",
              "      <td>2283180</td>\n",
              "      <td>2006</td>\n",
              "      <td>2007</td>\n",
              "      <td>191.008568</td>\n",
              "      <td>8</td>\n",
              "      <td>11</td>\n",
              "      <td>9</td>\n",
              "      <td>1</td>\n",
              "      <td>1</td>\n",
              "      <td>1</td>\n",
              "      <td>0</td>\n",
              "      <td>1</td>\n",
              "      <td>0</td>\n",
              "      <td>0</td>\n",
              "      <td>0</td>\n",
              "    </tr>\n",
              "    <tr>\n",
              "      <th>4</th>\n",
              "      <td>1327428</td>\n",
              "      <td>1993</td>\n",
              "      <td>2007</td>\n",
              "      <td>163.602183</td>\n",
              "      <td>3</td>\n",
              "      <td>20</td>\n",
              "      <td>25</td>\n",
              "      <td>1</td>\n",
              "      <td>1</td>\n",
              "      <td>1</td>\n",
              "      <td>0</td>\n",
              "      <td>0</td>\n",
              "      <td>0</td>\n",
              "      <td>1</td>\n",
              "      <td>0</td>\n",
              "    </tr>\n",
              "  </tbody>\n",
              "</table>\n",
              "</div>\n",
              "    <div class=\"colab-df-buttons\">\n",
              "\n",
              "  <div class=\"colab-df-container\">\n",
              "    <button class=\"colab-df-convert\" onclick=\"convertToInteractive('df-f4b05cd0-c6a6-42c6-914f-e9ccf32d057c')\"\n",
              "            title=\"Convert this dataframe to an interactive table.\"\n",
              "            style=\"display:none;\">\n",
              "\n",
              "  <svg xmlns=\"http://www.w3.org/2000/svg\" height=\"24px\" viewBox=\"0 -960 960 960\">\n",
              "    <path d=\"M120-120v-720h720v720H120Zm60-500h600v-160H180v160Zm220 220h160v-160H400v160Zm0 220h160v-160H400v160ZM180-400h160v-160H180v160Zm440 0h160v-160H620v160ZM180-180h160v-160H180v160Zm440 0h160v-160H620v160Z\"/>\n",
              "  </svg>\n",
              "    </button>\n",
              "\n",
              "  <style>\n",
              "    .colab-df-container {\n",
              "      display:flex;\n",
              "      gap: 12px;\n",
              "    }\n",
              "\n",
              "    .colab-df-convert {\n",
              "      background-color: #E8F0FE;\n",
              "      border: none;\n",
              "      border-radius: 50%;\n",
              "      cursor: pointer;\n",
              "      display: none;\n",
              "      fill: #1967D2;\n",
              "      height: 32px;\n",
              "      padding: 0 0 0 0;\n",
              "      width: 32px;\n",
              "    }\n",
              "\n",
              "    .colab-df-convert:hover {\n",
              "      background-color: #E2EBFA;\n",
              "      box-shadow: 0px 1px 2px rgba(60, 64, 67, 0.3), 0px 1px 3px 1px rgba(60, 64, 67, 0.15);\n",
              "      fill: #174EA6;\n",
              "    }\n",
              "\n",
              "    .colab-df-buttons div {\n",
              "      margin-bottom: 4px;\n",
              "    }\n",
              "\n",
              "    [theme=dark] .colab-df-convert {\n",
              "      background-color: #3B4455;\n",
              "      fill: #D2E3FC;\n",
              "    }\n",
              "\n",
              "    [theme=dark] .colab-df-convert:hover {\n",
              "      background-color: #434B5C;\n",
              "      box-shadow: 0px 1px 3px 1px rgba(0, 0, 0, 0.15);\n",
              "      filter: drop-shadow(0px 1px 2px rgba(0, 0, 0, 0.3));\n",
              "      fill: #FFFFFF;\n",
              "    }\n",
              "  </style>\n",
              "\n",
              "    <script>\n",
              "      const buttonEl =\n",
              "        document.querySelector('#df-f4b05cd0-c6a6-42c6-914f-e9ccf32d057c button.colab-df-convert');\n",
              "      buttonEl.style.display =\n",
              "        google.colab.kernel.accessAllowed ? 'block' : 'none';\n",
              "\n",
              "      async function convertToInteractive(key) {\n",
              "        const element = document.querySelector('#df-f4b05cd0-c6a6-42c6-914f-e9ccf32d057c');\n",
              "        const dataTable =\n",
              "          await google.colab.kernel.invokeFunction('convertToInteractive',\n",
              "                                                    [key], {});\n",
              "        if (!dataTable) return;\n",
              "\n",
              "        const docLinkHtml = 'Like what you see? Visit the ' +\n",
              "          '<a target=\"_blank\" href=https://colab.research.google.com/notebooks/data_table.ipynb>data table notebook</a>'\n",
              "          + ' to learn more about interactive tables.';\n",
              "        element.innerHTML = '';\n",
              "        dataTable['output_type'] = 'display_data';\n",
              "        await google.colab.output.renderOutput(dataTable, element);\n",
              "        const docLink = document.createElement('div');\n",
              "        docLink.innerHTML = docLinkHtml;\n",
              "        element.appendChild(docLink);\n",
              "      }\n",
              "    </script>\n",
              "  </div>\n",
              "\n",
              "\n",
              "<div id=\"df-9ca9bc93-be3e-483c-b83b-7af009a0698f\">\n",
              "  <button class=\"colab-df-quickchart\" onclick=\"quickchart('df-9ca9bc93-be3e-483c-b83b-7af009a0698f')\"\n",
              "            title=\"Suggest charts.\"\n",
              "            style=\"display:none;\">\n",
              "\n",
              "<svg xmlns=\"http://www.w3.org/2000/svg\" height=\"24px\"viewBox=\"0 0 24 24\"\n",
              "     width=\"24px\">\n",
              "    <g>\n",
              "        <path d=\"M19 3H5c-1.1 0-2 .9-2 2v14c0 1.1.9 2 2 2h14c1.1 0 2-.9 2-2V5c0-1.1-.9-2-2-2zM9 17H7v-7h2v7zm4 0h-2V7h2v10zm4 0h-2v-4h2v4z\"/>\n",
              "    </g>\n",
              "</svg>\n",
              "  </button>\n",
              "\n",
              "<style>\n",
              "  .colab-df-quickchart {\n",
              "      --bg-color: #E8F0FE;\n",
              "      --fill-color: #1967D2;\n",
              "      --hover-bg-color: #E2EBFA;\n",
              "      --hover-fill-color: #174EA6;\n",
              "      --disabled-fill-color: #AAA;\n",
              "      --disabled-bg-color: #DDD;\n",
              "  }\n",
              "\n",
              "  [theme=dark] .colab-df-quickchart {\n",
              "      --bg-color: #3B4455;\n",
              "      --fill-color: #D2E3FC;\n",
              "      --hover-bg-color: #434B5C;\n",
              "      --hover-fill-color: #FFFFFF;\n",
              "      --disabled-bg-color: #3B4455;\n",
              "      --disabled-fill-color: #666;\n",
              "  }\n",
              "\n",
              "  .colab-df-quickchart {\n",
              "    background-color: var(--bg-color);\n",
              "    border: none;\n",
              "    border-radius: 50%;\n",
              "    cursor: pointer;\n",
              "    display: none;\n",
              "    fill: var(--fill-color);\n",
              "    height: 32px;\n",
              "    padding: 0;\n",
              "    width: 32px;\n",
              "  }\n",
              "\n",
              "  .colab-df-quickchart:hover {\n",
              "    background-color: var(--hover-bg-color);\n",
              "    box-shadow: 0 1px 2px rgba(60, 64, 67, 0.3), 0 1px 3px 1px rgba(60, 64, 67, 0.15);\n",
              "    fill: var(--button-hover-fill-color);\n",
              "  }\n",
              "\n",
              "  .colab-df-quickchart-complete:disabled,\n",
              "  .colab-df-quickchart-complete:disabled:hover {\n",
              "    background-color: var(--disabled-bg-color);\n",
              "    fill: var(--disabled-fill-color);\n",
              "    box-shadow: none;\n",
              "  }\n",
              "\n",
              "  .colab-df-spinner {\n",
              "    border: 2px solid var(--fill-color);\n",
              "    border-color: transparent;\n",
              "    border-bottom-color: var(--fill-color);\n",
              "    animation:\n",
              "      spin 1s steps(1) infinite;\n",
              "  }\n",
              "\n",
              "  @keyframes spin {\n",
              "    0% {\n",
              "      border-color: transparent;\n",
              "      border-bottom-color: var(--fill-color);\n",
              "      border-left-color: var(--fill-color);\n",
              "    }\n",
              "    20% {\n",
              "      border-color: transparent;\n",
              "      border-left-color: var(--fill-color);\n",
              "      border-top-color: var(--fill-color);\n",
              "    }\n",
              "    30% {\n",
              "      border-color: transparent;\n",
              "      border-left-color: var(--fill-color);\n",
              "      border-top-color: var(--fill-color);\n",
              "      border-right-color: var(--fill-color);\n",
              "    }\n",
              "    40% {\n",
              "      border-color: transparent;\n",
              "      border-right-color: var(--fill-color);\n",
              "      border-top-color: var(--fill-color);\n",
              "    }\n",
              "    60% {\n",
              "      border-color: transparent;\n",
              "      border-right-color: var(--fill-color);\n",
              "    }\n",
              "    80% {\n",
              "      border-color: transparent;\n",
              "      border-right-color: var(--fill-color);\n",
              "      border-bottom-color: var(--fill-color);\n",
              "    }\n",
              "    90% {\n",
              "      border-color: transparent;\n",
              "      border-bottom-color: var(--fill-color);\n",
              "    }\n",
              "  }\n",
              "</style>\n",
              "\n",
              "  <script>\n",
              "    async function quickchart(key) {\n",
              "      const quickchartButtonEl =\n",
              "        document.querySelector('#' + key + ' button');\n",
              "      quickchartButtonEl.disabled = true;  // To prevent multiple clicks.\n",
              "      quickchartButtonEl.classList.add('colab-df-spinner');\n",
              "      try {\n",
              "        const charts = await google.colab.kernel.invokeFunction(\n",
              "            'suggestCharts', [key], {});\n",
              "      } catch (error) {\n",
              "        console.error('Error during call to suggestCharts:', error);\n",
              "      }\n",
              "      quickchartButtonEl.classList.remove('colab-df-spinner');\n",
              "      quickchartButtonEl.classList.add('colab-df-quickchart-complete');\n",
              "    }\n",
              "    (() => {\n",
              "      let quickchartButtonEl =\n",
              "        document.querySelector('#df-9ca9bc93-be3e-483c-b83b-7af009a0698f button');\n",
              "      quickchartButtonEl.style.display =\n",
              "        google.colab.kernel.accessAllowed ? 'block' : 'none';\n",
              "    })();\n",
              "  </script>\n",
              "</div>\n",
              "    </div>\n",
              "  </div>\n"
            ]
          },
          "metadata": {},
          "execution_count": 32
        }
      ]
    },
    {
      "cell_type": "code",
      "source": [
        "# separando os dados em X e y\n",
        "X = df.drop('preco', axis=1)\n",
        "y = df['preco']"
      ],
      "metadata": {
        "id": "zXAy7GhbLxSw"
      },
      "execution_count": null,
      "outputs": []
    },
    {
      "cell_type": "code",
      "source": [
        "# importando StandardScaler\n",
        "from sklearn.preprocessing import StandardScaler\n",
        "\n",
        "# instanciando a função\n",
        "scaler = StandardScaler()\n",
        "\n",
        "# criando uma cópia dos valores\n",
        "X_scaled = X.copy()\n",
        "\n",
        "# aplicando a padronização\n",
        "X_scaled[X_scaled.columns] = scaler.fit_transform(X_scaled)\n",
        "\n",
        "X_scaled.head()"
      ],
      "metadata": {
        "colab": {
          "base_uri": "https://localhost:8080/",
          "height": 243
        },
        "id": "egeeZp_wv_sY",
        "outputId": "80352982-daec-4a1b-d71c-4bb844d2100a"
      },
      "execution_count": null,
      "outputs": [
        {
          "output_type": "execute_result",
          "data": {
            "text/plain": [
              "   ano_construcao  ano_Venda        m2     andar  qtde_elevadores  \\\n",
              "0        0.344181  -1.959067 -0.370182 -1.195839        -1.427953   \n",
              "1       -2.039194  -1.959067 -0.963752 -0.533420        -1.171726   \n",
              "2       -2.039194  -1.959067 -0.963752 -0.798388        -1.171726   \n",
              "3        0.344181  -1.959067  2.877458 -0.533420        -0.018703   \n",
              "4       -1.131242  -1.959067  2.106078 -1.195839         1.134320   \n",
              "\n",
              "   qtde_servicos  qtde_conveniencia  tipo_Aquecimento_individual  \\\n",
              "0      -0.723875          -0.772684                     0.231641   \n",
              "1      -0.896304           0.524518                     0.231641   \n",
              "2      -0.896304           0.524518                     0.231641   \n",
              "3      -1.413592          -0.772684                     0.231641   \n",
              "4       1.345276          -0.772684                     0.231641   \n",
              "\n",
              "   tempo_ate_onibus_0~5min  tempo_ate_onibus_5min~10min  \\\n",
              "0                -1.806284                     1.854545   \n",
              "1                 0.553623                    -0.539216   \n",
              "2                 0.553623                    -0.539216   \n",
              "3                 0.553623                    -0.539216   \n",
              "4                 0.553623                    -0.539216   \n",
              "\n",
              "   tempo_ate_metro_0-5min  tempo_ate_metro_10min~15min  \\\n",
              "0               -0.938566                     2.511759   \n",
              "1               -0.938566                    -0.398127   \n",
              "2               -0.938566                    -0.398127   \n",
              "3                1.065455                    -0.398127   \n",
              "4               -0.938566                    -0.398127   \n",
              "\n",
              "   tempo_ate_metro_15min~20min  tempo_ate_metro_5min~10min  \n",
              "0                    -0.439310                   -0.488514  \n",
              "1                    -0.439310                    2.047024  \n",
              "2                    -0.439310                    2.047024  \n",
              "3                    -0.439310                   -0.488514  \n",
              "4                     2.276298                   -0.488514  "
            ],
            "text/html": [
              "\n",
              "  <div id=\"df-750753f7-b77a-46a4-b81c-9f5d3a819f8c\" class=\"colab-df-container\">\n",
              "    <div>\n",
              "<style scoped>\n",
              "    .dataframe tbody tr th:only-of-type {\n",
              "        vertical-align: middle;\n",
              "    }\n",
              "\n",
              "    .dataframe tbody tr th {\n",
              "        vertical-align: top;\n",
              "    }\n",
              "\n",
              "    .dataframe thead th {\n",
              "        text-align: right;\n",
              "    }\n",
              "</style>\n",
              "<table border=\"1\" class=\"dataframe\">\n",
              "  <thead>\n",
              "    <tr style=\"text-align: right;\">\n",
              "      <th></th>\n",
              "      <th>ano_construcao</th>\n",
              "      <th>ano_Venda</th>\n",
              "      <th>m2</th>\n",
              "      <th>andar</th>\n",
              "      <th>qtde_elevadores</th>\n",
              "      <th>qtde_servicos</th>\n",
              "      <th>qtde_conveniencia</th>\n",
              "      <th>tipo_Aquecimento_individual</th>\n",
              "      <th>tempo_ate_onibus_0~5min</th>\n",
              "      <th>tempo_ate_onibus_5min~10min</th>\n",
              "      <th>tempo_ate_metro_0-5min</th>\n",
              "      <th>tempo_ate_metro_10min~15min</th>\n",
              "      <th>tempo_ate_metro_15min~20min</th>\n",
              "      <th>tempo_ate_metro_5min~10min</th>\n",
              "    </tr>\n",
              "  </thead>\n",
              "  <tbody>\n",
              "    <tr>\n",
              "      <th>0</th>\n",
              "      <td>0.344181</td>\n",
              "      <td>-1.959067</td>\n",
              "      <td>-0.370182</td>\n",
              "      <td>-1.195839</td>\n",
              "      <td>-1.427953</td>\n",
              "      <td>-0.723875</td>\n",
              "      <td>-0.772684</td>\n",
              "      <td>0.231641</td>\n",
              "      <td>-1.806284</td>\n",
              "      <td>1.854545</td>\n",
              "      <td>-0.938566</td>\n",
              "      <td>2.511759</td>\n",
              "      <td>-0.439310</td>\n",
              "      <td>-0.488514</td>\n",
              "    </tr>\n",
              "    <tr>\n",
              "      <th>1</th>\n",
              "      <td>-2.039194</td>\n",
              "      <td>-1.959067</td>\n",
              "      <td>-0.963752</td>\n",
              "      <td>-0.533420</td>\n",
              "      <td>-1.171726</td>\n",
              "      <td>-0.896304</td>\n",
              "      <td>0.524518</td>\n",
              "      <td>0.231641</td>\n",
              "      <td>0.553623</td>\n",
              "      <td>-0.539216</td>\n",
              "      <td>-0.938566</td>\n",
              "      <td>-0.398127</td>\n",
              "      <td>-0.439310</td>\n",
              "      <td>2.047024</td>\n",
              "    </tr>\n",
              "    <tr>\n",
              "      <th>2</th>\n",
              "      <td>-2.039194</td>\n",
              "      <td>-1.959067</td>\n",
              "      <td>-0.963752</td>\n",
              "      <td>-0.798388</td>\n",
              "      <td>-1.171726</td>\n",
              "      <td>-0.896304</td>\n",
              "      <td>0.524518</td>\n",
              "      <td>0.231641</td>\n",
              "      <td>0.553623</td>\n",
              "      <td>-0.539216</td>\n",
              "      <td>-0.938566</td>\n",
              "      <td>-0.398127</td>\n",
              "      <td>-0.439310</td>\n",
              "      <td>2.047024</td>\n",
              "    </tr>\n",
              "    <tr>\n",
              "      <th>3</th>\n",
              "      <td>0.344181</td>\n",
              "      <td>-1.959067</td>\n",
              "      <td>2.877458</td>\n",
              "      <td>-0.533420</td>\n",
              "      <td>-0.018703</td>\n",
              "      <td>-1.413592</td>\n",
              "      <td>-0.772684</td>\n",
              "      <td>0.231641</td>\n",
              "      <td>0.553623</td>\n",
              "      <td>-0.539216</td>\n",
              "      <td>1.065455</td>\n",
              "      <td>-0.398127</td>\n",
              "      <td>-0.439310</td>\n",
              "      <td>-0.488514</td>\n",
              "    </tr>\n",
              "    <tr>\n",
              "      <th>4</th>\n",
              "      <td>-1.131242</td>\n",
              "      <td>-1.959067</td>\n",
              "      <td>2.106078</td>\n",
              "      <td>-1.195839</td>\n",
              "      <td>1.134320</td>\n",
              "      <td>1.345276</td>\n",
              "      <td>-0.772684</td>\n",
              "      <td>0.231641</td>\n",
              "      <td>0.553623</td>\n",
              "      <td>-0.539216</td>\n",
              "      <td>-0.938566</td>\n",
              "      <td>-0.398127</td>\n",
              "      <td>2.276298</td>\n",
              "      <td>-0.488514</td>\n",
              "    </tr>\n",
              "  </tbody>\n",
              "</table>\n",
              "</div>\n",
              "    <div class=\"colab-df-buttons\">\n",
              "\n",
              "  <div class=\"colab-df-container\">\n",
              "    <button class=\"colab-df-convert\" onclick=\"convertToInteractive('df-750753f7-b77a-46a4-b81c-9f5d3a819f8c')\"\n",
              "            title=\"Convert this dataframe to an interactive table.\"\n",
              "            style=\"display:none;\">\n",
              "\n",
              "  <svg xmlns=\"http://www.w3.org/2000/svg\" height=\"24px\" viewBox=\"0 -960 960 960\">\n",
              "    <path d=\"M120-120v-720h720v720H120Zm60-500h600v-160H180v160Zm220 220h160v-160H400v160Zm0 220h160v-160H400v160ZM180-400h160v-160H180v160Zm440 0h160v-160H620v160ZM180-180h160v-160H180v160Zm440 0h160v-160H620v160Z\"/>\n",
              "  </svg>\n",
              "    </button>\n",
              "\n",
              "  <style>\n",
              "    .colab-df-container {\n",
              "      display:flex;\n",
              "      gap: 12px;\n",
              "    }\n",
              "\n",
              "    .colab-df-convert {\n",
              "      background-color: #E8F0FE;\n",
              "      border: none;\n",
              "      border-radius: 50%;\n",
              "      cursor: pointer;\n",
              "      display: none;\n",
              "      fill: #1967D2;\n",
              "      height: 32px;\n",
              "      padding: 0 0 0 0;\n",
              "      width: 32px;\n",
              "    }\n",
              "\n",
              "    .colab-df-convert:hover {\n",
              "      background-color: #E2EBFA;\n",
              "      box-shadow: 0px 1px 2px rgba(60, 64, 67, 0.3), 0px 1px 3px 1px rgba(60, 64, 67, 0.15);\n",
              "      fill: #174EA6;\n",
              "    }\n",
              "\n",
              "    .colab-df-buttons div {\n",
              "      margin-bottom: 4px;\n",
              "    }\n",
              "\n",
              "    [theme=dark] .colab-df-convert {\n",
              "      background-color: #3B4455;\n",
              "      fill: #D2E3FC;\n",
              "    }\n",
              "\n",
              "    [theme=dark] .colab-df-convert:hover {\n",
              "      background-color: #434B5C;\n",
              "      box-shadow: 0px 1px 3px 1px rgba(0, 0, 0, 0.15);\n",
              "      filter: drop-shadow(0px 1px 2px rgba(0, 0, 0, 0.3));\n",
              "      fill: #FFFFFF;\n",
              "    }\n",
              "  </style>\n",
              "\n",
              "    <script>\n",
              "      const buttonEl =\n",
              "        document.querySelector('#df-750753f7-b77a-46a4-b81c-9f5d3a819f8c button.colab-df-convert');\n",
              "      buttonEl.style.display =\n",
              "        google.colab.kernel.accessAllowed ? 'block' : 'none';\n",
              "\n",
              "      async function convertToInteractive(key) {\n",
              "        const element = document.querySelector('#df-750753f7-b77a-46a4-b81c-9f5d3a819f8c');\n",
              "        const dataTable =\n",
              "          await google.colab.kernel.invokeFunction('convertToInteractive',\n",
              "                                                    [key], {});\n",
              "        if (!dataTable) return;\n",
              "\n",
              "        const docLinkHtml = 'Like what you see? Visit the ' +\n",
              "          '<a target=\"_blank\" href=https://colab.research.google.com/notebooks/data_table.ipynb>data table notebook</a>'\n",
              "          + ' to learn more about interactive tables.';\n",
              "        element.innerHTML = '';\n",
              "        dataTable['output_type'] = 'display_data';\n",
              "        await google.colab.output.renderOutput(dataTable, element);\n",
              "        const docLink = document.createElement('div');\n",
              "        docLink.innerHTML = docLinkHtml;\n",
              "        element.appendChild(docLink);\n",
              "      }\n",
              "    </script>\n",
              "  </div>\n",
              "\n",
              "\n",
              "<div id=\"df-07a4d667-8058-4708-bd63-08fdf682211f\">\n",
              "  <button class=\"colab-df-quickchart\" onclick=\"quickchart('df-07a4d667-8058-4708-bd63-08fdf682211f')\"\n",
              "            title=\"Suggest charts.\"\n",
              "            style=\"display:none;\">\n",
              "\n",
              "<svg xmlns=\"http://www.w3.org/2000/svg\" height=\"24px\"viewBox=\"0 0 24 24\"\n",
              "     width=\"24px\">\n",
              "    <g>\n",
              "        <path d=\"M19 3H5c-1.1 0-2 .9-2 2v14c0 1.1.9 2 2 2h14c1.1 0 2-.9 2-2V5c0-1.1-.9-2-2-2zM9 17H7v-7h2v7zm4 0h-2V7h2v10zm4 0h-2v-4h2v4z\"/>\n",
              "    </g>\n",
              "</svg>\n",
              "  </button>\n",
              "\n",
              "<style>\n",
              "  .colab-df-quickchart {\n",
              "      --bg-color: #E8F0FE;\n",
              "      --fill-color: #1967D2;\n",
              "      --hover-bg-color: #E2EBFA;\n",
              "      --hover-fill-color: #174EA6;\n",
              "      --disabled-fill-color: #AAA;\n",
              "      --disabled-bg-color: #DDD;\n",
              "  }\n",
              "\n",
              "  [theme=dark] .colab-df-quickchart {\n",
              "      --bg-color: #3B4455;\n",
              "      --fill-color: #D2E3FC;\n",
              "      --hover-bg-color: #434B5C;\n",
              "      --hover-fill-color: #FFFFFF;\n",
              "      --disabled-bg-color: #3B4455;\n",
              "      --disabled-fill-color: #666;\n",
              "  }\n",
              "\n",
              "  .colab-df-quickchart {\n",
              "    background-color: var(--bg-color);\n",
              "    border: none;\n",
              "    border-radius: 50%;\n",
              "    cursor: pointer;\n",
              "    display: none;\n",
              "    fill: var(--fill-color);\n",
              "    height: 32px;\n",
              "    padding: 0;\n",
              "    width: 32px;\n",
              "  }\n",
              "\n",
              "  .colab-df-quickchart:hover {\n",
              "    background-color: var(--hover-bg-color);\n",
              "    box-shadow: 0 1px 2px rgba(60, 64, 67, 0.3), 0 1px 3px 1px rgba(60, 64, 67, 0.15);\n",
              "    fill: var(--button-hover-fill-color);\n",
              "  }\n",
              "\n",
              "  .colab-df-quickchart-complete:disabled,\n",
              "  .colab-df-quickchart-complete:disabled:hover {\n",
              "    background-color: var(--disabled-bg-color);\n",
              "    fill: var(--disabled-fill-color);\n",
              "    box-shadow: none;\n",
              "  }\n",
              "\n",
              "  .colab-df-spinner {\n",
              "    border: 2px solid var(--fill-color);\n",
              "    border-color: transparent;\n",
              "    border-bottom-color: var(--fill-color);\n",
              "    animation:\n",
              "      spin 1s steps(1) infinite;\n",
              "  }\n",
              "\n",
              "  @keyframes spin {\n",
              "    0% {\n",
              "      border-color: transparent;\n",
              "      border-bottom-color: var(--fill-color);\n",
              "      border-left-color: var(--fill-color);\n",
              "    }\n",
              "    20% {\n",
              "      border-color: transparent;\n",
              "      border-left-color: var(--fill-color);\n",
              "      border-top-color: var(--fill-color);\n",
              "    }\n",
              "    30% {\n",
              "      border-color: transparent;\n",
              "      border-left-color: var(--fill-color);\n",
              "      border-top-color: var(--fill-color);\n",
              "      border-right-color: var(--fill-color);\n",
              "    }\n",
              "    40% {\n",
              "      border-color: transparent;\n",
              "      border-right-color: var(--fill-color);\n",
              "      border-top-color: var(--fill-color);\n",
              "    }\n",
              "    60% {\n",
              "      border-color: transparent;\n",
              "      border-right-color: var(--fill-color);\n",
              "    }\n",
              "    80% {\n",
              "      border-color: transparent;\n",
              "      border-right-color: var(--fill-color);\n",
              "      border-bottom-color: var(--fill-color);\n",
              "    }\n",
              "    90% {\n",
              "      border-color: transparent;\n",
              "      border-bottom-color: var(--fill-color);\n",
              "    }\n",
              "  }\n",
              "</style>\n",
              "\n",
              "  <script>\n",
              "    async function quickchart(key) {\n",
              "      const quickchartButtonEl =\n",
              "        document.querySelector('#' + key + ' button');\n",
              "      quickchartButtonEl.disabled = true;  // To prevent multiple clicks.\n",
              "      quickchartButtonEl.classList.add('colab-df-spinner');\n",
              "      try {\n",
              "        const charts = await google.colab.kernel.invokeFunction(\n",
              "            'suggestCharts', [key], {});\n",
              "      } catch (error) {\n",
              "        console.error('Error during call to suggestCharts:', error);\n",
              "      }\n",
              "      quickchartButtonEl.classList.remove('colab-df-spinner');\n",
              "      quickchartButtonEl.classList.add('colab-df-quickchart-complete');\n",
              "    }\n",
              "    (() => {\n",
              "      let quickchartButtonEl =\n",
              "        document.querySelector('#df-07a4d667-8058-4708-bd63-08fdf682211f button');\n",
              "      quickchartButtonEl.style.display =\n",
              "        google.colab.kernel.accessAllowed ? 'block' : 'none';\n",
              "    })();\n",
              "  </script>\n",
              "</div>\n",
              "    </div>\n",
              "  </div>\n"
            ]
          },
          "metadata": {},
          "execution_count": 34
        }
      ]
    },
    {
      "cell_type": "markdown",
      "source": [
        "Criando o modelo de regressão"
      ],
      "metadata": {
        "id": "xkfPby6oTfMK"
      }
    },
    {
      "cell_type": "code",
      "source": [
        "# Adicionando a constante ao modelo de regressão linear múltipla\n",
        "X2 = sm.add_constant(X_scaled)\n",
        "\n",
        "# Ajustando o modelo\n",
        "modelo2 = sm.OLS(y, X2).fit()\n",
        "\n",
        "# Exibindo os resultados\n",
        "print(modelo2.summary())"
      ],
      "metadata": {
        "colab": {
          "base_uri": "https://localhost:8080/"
        },
        "id": "5fJIhJa9ThmO",
        "outputId": "e44ea023-a474-4cfc-ddc5-8d6293121957"
      },
      "execution_count": null,
      "outputs": [
        {
          "output_type": "stream",
          "name": "stdout",
          "text": [
            "                            OLS Regression Results                            \n",
            "==============================================================================\n",
            "Dep. Variable:                  preco   R-squared:                       0.827\n",
            "Model:                            OLS   Adj. R-squared:                  0.826\n",
            "Method:                 Least Squares   F-statistic:                     2000.\n",
            "Date:                Thu, 26 Oct 2023   Prob (F-statistic):               0.00\n",
            "Time:                        23:26:06   Log-Likelihood:                -81941.\n",
            "No. Observations:                5891   AIC:                         1.639e+05\n",
            "Df Residuals:                    5876   BIC:                         1.640e+05\n",
            "Df Model:                          14                                         \n",
            "Covariance Type:            nonrobust                                         \n",
            "===============================================================================================\n",
            "                                  coef    std err          t      P>|t|      [0.025      0.975]\n",
            "-----------------------------------------------------------------------------------------------\n",
            "const                        1.327e+06   3467.684    382.765      0.000    1.32e+06    1.33e+06\n",
            "ano_construcao               1.317e+05   5881.733     22.395      0.000     1.2e+05    1.43e+05\n",
            "ano_Venda                    2.075e+05   3810.495     54.462      0.000       2e+05    2.15e+05\n",
            "m2                           4.018e+05   4357.498     92.216      0.000    3.93e+05     4.1e+05\n",
            "andar                        6.776e+04   3762.151     18.012      0.000    6.04e+04    7.51e+04\n",
            "qtde_elevadores              7.918e+04   5928.957     13.354      0.000    6.76e+04    9.08e+04\n",
            "qtde_servicos               -8.736e+04   5426.606    -16.099      0.000    -9.8e+04   -7.67e+04\n",
            "qtde_conveniencia            5713.7873   4397.358      1.299      0.194   -2906.652    1.43e+04\n",
            "tipo_Aquecimento_individual  6.704e+04   7258.207      9.236      0.000    5.28e+04    8.13e+04\n",
            "tempo_ate_onibus_0~5min        2.7e+05   1.72e+04     15.720      0.000    2.36e+05    3.04e+05\n",
            "tempo_ate_onibus_5min~10min  2.577e+05   1.68e+04     15.315      0.000    2.25e+05    2.91e+05\n",
            "tempo_ate_metro_0-5min       7.402e+04   1.03e+04      7.181      0.000    5.38e+04    9.42e+04\n",
            "tempo_ate_metro_10min~15min  4.995e+04   9766.901      5.114      0.000    3.08e+04    6.91e+04\n",
            "tempo_ate_metro_15min~20min -2.401e+04   9836.496     -2.441      0.015   -4.33e+04   -4730.843\n",
            "tempo_ate_metro_5min~10min   5.963e+04   8851.371      6.737      0.000    4.23e+04     7.7e+04\n",
            "==============================================================================\n",
            "Omnibus:                      425.595   Durbin-Watson:                   0.977\n",
            "Prob(Omnibus):                  0.000   Jarque-Bera (JB):              776.354\n",
            "Skew:                          -0.523   Prob(JB):                    2.61e-169\n",
            "Kurtosis:                       4.438   Cond. No.                         12.5\n",
            "==============================================================================\n",
            "\n",
            "Notes:\n",
            "[1] Standard Errors assume that the covariance matrix of the errors is correctly specified.\n"
          ]
        }
      ]
    },
    {
      "cell_type": "markdown",
      "source": [
        "O R² é de 0.827, ou seja, está prevendo melhor o modelo"
      ],
      "metadata": {
        "id": "dHI01YNyWF1K"
      }
    },
    {
      "cell_type": "markdown",
      "source": [
        "## Atividade 6: Faça a previsão do preço de um apartamento com as seguinte características:\n",
        "ano_construcao = 2000\n",
        "\n",
        "ano_Venda = 2003\n",
        "\n",
        "m2 = 83\n",
        "\n",
        "andar = 2\n",
        "\n",
        "qtde_elevadores = 1\n",
        "\n",
        "qtde_servicos = 4\n",
        "\n",
        "qtde_conveniencia = 2\n",
        "\n",
        "tipo_Aquecimento_individual = 1\n",
        "\n",
        "tempo_ate_onibus_0~5min = 0\n",
        "\n",
        "tempo_ate_onibus_5min~10min = 1\n",
        "\n",
        "tempo_ate_metro_0-5min = 1\n",
        "\n",
        "tempo_ate_metro_10min~15min = 0\n",
        "\n",
        "tempo_ate_metro_15min~20min = 0\n",
        "\n",
        "tempo_ate_metro_5min~10min = 0"
      ],
      "metadata": {
        "id": "T9HfBnG6Phj_"
      }
    },
    {
      "cell_type": "code",
      "source": [
        "from statsmodels.stats.outliers_influence import variance_inflation_factor\n",
        "\n",
        "# Encontrando VIF para cada variável\n",
        "#VIF = []\n",
        "VIF = [variance_inflation_factor(X2.values, i) for i in range(X.shape[1])]\n",
        "\n",
        "array_coef = [] # criado para armazenar os coefs para calcular posteriormente\n",
        "\n",
        "# exibindo o VIF para cada variável\n",
        "for indice, vif in enumerate(VIF):\n",
        "  print(f'{X_scaled.columns[indice]}: {vif}')\n",
        "  array_coef.append(VIF)"
      ],
      "metadata": {
        "colab": {
          "base_uri": "https://localhost:8080/"
        },
        "id": "zYH6c9RpZdSK",
        "outputId": "1b0868fb-22eb-4867-c712-635fac80b7cb"
      },
      "execution_count": null,
      "outputs": [
        {
          "output_type": "stream",
          "name": "stdout",
          "text": [
            "ano_construcao: 1.000000000000002\n",
            "ano_Venda: 2.8769439253776743\n",
            "m2: 1.2074901489750312\n",
            "andar: 1.5790474186140362\n",
            "qtde_elevadores: 1.1770457683797\n",
            "qtde_servicos: 2.9233278102510476\n",
            "qtde_conveniencia: 2.448935745707548\n",
            "tipo_Aquecimento_individual: 1.6080686093925656\n",
            "tempo_ate_onibus_0~5min: 4.381063755907036\n",
            "tempo_ate_onibus_5min~10min: 24.535240105582353\n",
            "tempo_ate_metro_0-5min: 23.55155044796696\n",
            "tempo_ate_metro_10min~15min: 8.837772704107909\n",
            "tempo_ate_metro_15min~20min: 7.932944735408352\n",
            "tempo_ate_metro_5min~10min: 8.04640147760748\n"
          ]
        }
      ]
    },
    {
      "cell_type": "markdown",
      "source": [],
      "metadata": {
        "id": "-m2CJnuDgigX"
      }
    },
    {
      "cell_type": "code",
      "source": [
        "valores = [2000, 2003, 83, 2, 1, 4, 2, 1, 0, 1, 1, 0, 0, 0]\n",
        "preco = 0\n",
        "index = 0\n",
        "\n",
        "for coeficiente in array_coef:\n",
        "  preco+= coeficiente[index] * valores[index]\n",
        "  index+=1\n",
        "\n",
        "\n",
        "print('O valor do imóvel para os coeficientes é: ', preco)"
      ],
      "metadata": {
        "id": "BncdpN8VPwsa",
        "colab": {
          "base_uri": "https://localhost:8080/"
        },
        "outputId": "1a4498c9-784c-4125-aa16-5444f92aa29f"
      },
      "execution_count": null,
      "outputs": [
        {
          "output_type": "stream",
          "name": "stdout",
          "text": [
            "O valor do imóvel para os coeficientes é:  7933.361547397382\n"
          ]
        }
      ]
    },
    {
      "cell_type": "markdown",
      "source": [
        "## Atividade 7: Verifique os pressupostos do modelo."
      ],
      "metadata": {
        "id": "mkNyzH3fUBhd"
      }
    },
    {
      "cell_type": "code",
      "source": [
        "# prevendo valores para X\n",
        "y_pred2 = modelo2.predict(X2)\n",
        "\n",
        "# calculando os resíduos\n",
        "res2 = y - y_pred2"
      ],
      "metadata": {
        "id": "Fa82XrU4nhe4"
      },
      "execution_count": null,
      "outputs": []
    },
    {
      "cell_type": "markdown",
      "source": [
        "Homocedasticidade dos Resíduos"
      ],
      "metadata": {
        "id": "sdfaRE2zPEWA"
      }
    },
    {
      "cell_type": "code",
      "source": [
        "stat, p_valor, _ = het_goldfeldquandt(res2, X2)\n",
        "p_valor"
      ],
      "metadata": {
        "id": "6qt7gRBJpG8G",
        "colab": {
          "base_uri": "https://localhost:8080/"
        },
        "outputId": "a2226656-daf4-4382-907d-f3c62b89403d"
      },
      "execution_count": null,
      "outputs": [
        {
          "output_type": "execute_result",
          "data": {
            "text/plain": [
              "1.1901268230241252e-57"
            ]
          },
          "metadata": {},
          "execution_count": 39
        }
      ]
    },
    {
      "cell_type": "markdown",
      "source": [
        "Não tem distribuição normal, pois a hipótese nula é rejeitada, dado que o p valor < 0.05"
      ],
      "metadata": {
        "id": "M3TtQ_w-bafB"
      }
    },
    {
      "cell_type": "markdown",
      "source": [
        "Normalidade dos Resíduos"
      ],
      "metadata": {
        "id": "V_ekgudIPJen"
      }
    },
    {
      "cell_type": "code",
      "source": [
        "# seu código"
      ],
      "metadata": {
        "id": "BV24IzV9pG6v"
      },
      "execution_count": null,
      "outputs": []
    },
    {
      "cell_type": "markdown",
      "source": [
        "Autocorrelação dos Resíduos"
      ],
      "metadata": {
        "id": "gTCwlrXaPQOQ"
      }
    },
    {
      "cell_type": "code",
      "source": [
        "durbin_watson(res2)"
      ],
      "metadata": {
        "id": "U1Ie1QclpG2i",
        "colab": {
          "base_uri": "https://localhost:8080/"
        },
        "outputId": "e8697287-848d-47dc-9283-632715bf1ccb"
      },
      "execution_count": null,
      "outputs": [
        {
          "output_type": "execute_result",
          "data": {
            "text/plain": [
              "0.9769517207167945"
            ]
          },
          "metadata": {},
          "execution_count": 40
        }
      ]
    },
    {
      "cell_type": "markdown",
      "source": [
        "Tem autocorrelação, pois o valor é menor que 1.5"
      ],
      "metadata": {
        "id": "8IqiW_r2bqS5"
      }
    },
    {
      "cell_type": "markdown",
      "source": [
        "Multicolinearidade"
      ],
      "metadata": {
        "id": "KdrxXcmDNS-I"
      }
    },
    {
      "cell_type": "markdown",
      "source": [
        "tempo_ate_onibus_5min~10min: 24.535240105582353\n",
        "\n",
        "tempo_ate_metro_0-5min: 23.55155044796696\n",
        "\n",
        "Apresentam multicolinearidade, pois o VIF >10"
      ],
      "metadata": {
        "id": "hrhs9W3-cCCc"
      }
    },
    {
      "cell_type": "markdown",
      "source": [
        "## Atividade 7: Avalie e compare ambos os modelos e decida qual é melhor."
      ],
      "metadata": {
        "id": "kAI6EAqwWM81"
      }
    },
    {
      "cell_type": "code",
      "source": [
        "print(f\"Modelo1: R2 = {modelo1.rsquared}, R2 Ajustado = {modelo1.rsquared_adj}\")\n",
        "print(f\"Modelo2: R2 = {modelo2.rsquared}, R2 Ajustado = {modelo2.rsquared_adj}\")"
      ],
      "metadata": {
        "id": "Qm3dZZ7QXsua",
        "colab": {
          "base_uri": "https://localhost:8080/"
        },
        "outputId": "5724475b-ae89-414a-c2bd-a787f6ffc6f3"
      },
      "execution_count": null,
      "outputs": [
        {
          "output_type": "stream",
          "name": "stdout",
          "text": [
            "Modelo1: R2 = 0.4985037705616263, R2 Ajustado = 0.498418612431309\n",
            "Modelo2: R2 = 0.8265485207255558, R2 Ajustado = 0.8261352598831728\n"
          ]
        }
      ]
    },
    {
      "cell_type": "markdown",
      "source": [
        "A variável X do modelo 2 explica 82,65%, enquanto no modelo 1, explica 49,85%"
      ],
      "metadata": {
        "id": "jwKGYgpdeB9I"
      }
    },
    {
      "cell_type": "code",
      "source": [
        "from statsmodels.tools.eval_measures import mse\n",
        "\n",
        "print(f\"MSE Modelo1: {mse(y, res1)}\")\n",
        "print(f\"MSE Modelo2: {mse(y, res2)}\")"
      ],
      "metadata": {
        "id": "Dcfg5SehnhyB",
        "colab": {
          "base_uri": "https://localhost:8080/"
        },
        "outputId": "280ec080-5bf3-4c9a-b11f-1b507f76e201"
      },
      "execution_count": null,
      "outputs": [
        {
          "output_type": "stream",
          "name": "stdout",
          "text": [
            "MSE Modelo1: 2169112581955.7854\n",
            "MSE Modelo2: 2098454648018.7969\n"
          ]
        }
      ]
    },
    {
      "cell_type": "markdown",
      "source": [
        "Erro do modelo 2 < erro modelo 1"
      ],
      "metadata": {
        "id": "c2CIHEVld0Z4"
      }
    },
    {
      "cell_type": "code",
      "source": [
        "from statsmodels.tools.eval_measures import meanabs\n",
        "\n",
        "print(f'MAE Modelo1: {meanabs(y, res1)}')\n",
        "print(f'MAE Modelo2: {meanabs(y, res2)}')"
      ],
      "metadata": {
        "id": "nmvVYetfpuzw",
        "colab": {
          "base_uri": "https://localhost:8080/"
        },
        "outputId": "6a13e4bf-e902-441a-9196-1bc13c91ceea"
      },
      "execution_count": null,
      "outputs": [
        {
          "output_type": "stream",
          "name": "stdout",
          "text": [
            "MAE Modelo1: 1327308.675267357\n",
            "MAE Modelo2: 1327392.9153251608\n"
          ]
        }
      ]
    },
    {
      "cell_type": "markdown",
      "source": [
        "Os valores são próximos, porém o modelo 1 apresenta um erro absoluto médio menor."
      ],
      "metadata": {
        "id": "hlzYucrHfCVM"
      }
    },
    {
      "cell_type": "markdown",
      "source": [
        "Analisando todas as métricas em conjunto, vemos que o modelo 2 apresenta melhor previsão."
      ],
      "metadata": {
        "id": "VDTeI6-_fN8m"
      }
    }
  ]
}