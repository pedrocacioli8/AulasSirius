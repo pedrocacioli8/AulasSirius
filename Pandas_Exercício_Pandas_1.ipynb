{
  "nbformat": 4,
  "nbformat_minor": 0,
  "metadata": {
    "colab": {
      "provenance": [],
      "authorship_tag": "ABX9TyMFOKmqd7mtt3S/OAHSn3L6",
      "include_colab_link": true
    },
    "kernelspec": {
      "name": "python3",
      "display_name": "Python 3"
    },
    "language_info": {
      "name": "python"
    }
  },
  "cells": [
    {
      "cell_type": "markdown",
      "metadata": {
        "id": "view-in-github",
        "colab_type": "text"
      },
      "source": [
        "<a href=\"https://colab.research.google.com/github/pedrocacioli8/AulasSirius/blob/main/Pandas_Exerc%C3%ADcio_Pandas_1.ipynb\" target=\"_parent\"><img src=\"https://colab.research.google.com/assets/colab-badge.svg\" alt=\"Open In Colab\"/></a>"
      ]
    },
    {
      "cell_type": "code",
      "execution_count": null,
      "metadata": {
        "id": "QL4G3nRNTVTX"
      },
      "outputs": [],
      "source": [
        "import pandas as pd"
      ]
    },
    {
      "cell_type": "code",
      "source": [
        "exam_data = {'nome': ['Sandra', 'Carlos', 'Regiane', 'Cesar', 'Eliana', 'Marcelio', 'Marcos', 'Leandra', 'Roberto', 'João'],\n",
        "'pontuação': [10, 9, 6.5, 8.7, 9, 6.8, 9.5, 5, 8, 4],\n",
        "'tentativas': [1, 3, 2, 3, 2, 3, 1, 1, 2, 1],\n",
        "'aprovado': ['sim', 'sim', 'não', 'sim', 'sim', 'não', 'sim', 'não', 'sim', 'não']}\n",
        "\n",
        "rotulos = ['a', 'b', 'c', 'd', 'e', 'f', 'g', 'h', 'i', 'j']"
      ],
      "metadata": {
        "id": "gY29_MEWTc_y"
      },
      "execution_count": null,
      "outputs": []
    },
    {
      "cell_type": "code",
      "source": [
        "df = pd.DataFrame(exam_data , index=rotulos)\n"
      ],
      "metadata": {
        "id": "fPlTG0E8Te0o"
      },
      "execution_count": null,
      "outputs": []
    },
    {
      "cell_type": "code",
      "source": [
        "df.rename(columns={\"pontuação\": \"notas\"}, inplace = True)"
      ],
      "metadata": {
        "id": "JXcbXEKHTgYn"
      },
      "execution_count": null,
      "outputs": []
    },
    {
      "cell_type": "code",
      "source": [
        "df.columns"
      ],
      "metadata": {
        "colab": {
          "base_uri": "https://localhost:8080/"
        },
        "id": "FrEB2lR9Ti63",
        "outputId": "0e5a0aa4-37bd-4d9a-8c5d-5c7db6cf75a7"
      },
      "execution_count": null,
      "outputs": [
        {
          "output_type": "execute_result",
          "data": {
            "text/plain": [
              "Index(['nome', 'notas', 'tentativas', 'aprovado'], dtype='object')"
            ]
          },
          "metadata": {},
          "execution_count": 5
        }
      ]
    },
    {
      "cell_type": "code",
      "source": [
        "print('Informações básicas: ')"
      ],
      "metadata": {
        "colab": {
          "base_uri": "https://localhost:8080/"
        },
        "id": "6NcY7xd1TnlN",
        "outputId": "7fe8d5cc-00b9-40b1-b7ca-36042e5095b7"
      },
      "execution_count": null,
      "outputs": [
        {
          "output_type": "stream",
          "name": "stdout",
          "text": [
            "Informações básicas: \n"
          ]
        }
      ]
    },
    {
      "cell_type": "code",
      "source": [
        "print('Informações básicas: ')\n",
        "df.info()"
      ],
      "metadata": {
        "colab": {
          "base_uri": "https://localhost:8080/"
        },
        "id": "Z8qlOdI_TqbF",
        "outputId": "1f6dde98-8b3d-47af-8f71-c2492cd89cfb"
      },
      "execution_count": null,
      "outputs": [
        {
          "output_type": "stream",
          "name": "stdout",
          "text": [
            "Informações básicas: \n",
            "<class 'pandas.core.frame.DataFrame'>\n",
            "Index: 10 entries, a to j\n",
            "Data columns (total 4 columns):\n",
            " #   Column      Non-Null Count  Dtype  \n",
            "---  ------      --------------  -----  \n",
            " 0   nome        10 non-null     object \n",
            " 1   notas       10 non-null     float64\n",
            " 2   tentativas  10 non-null     int64  \n",
            " 3   aprovado    10 non-null     object \n",
            "dtypes: float64(1), int64(1), object(2)\n",
            "memory usage: 700.0+ bytes\n"
          ]
        }
      ]
    },
    {
      "cell_type": "code",
      "source": [
        "print(df.columns)"
      ],
      "metadata": {
        "colab": {
          "base_uri": "https://localhost:8080/"
        },
        "id": "dltNGwjFTsZk",
        "outputId": "32ea3421-9c97-43bb-964d-10a2a004c18a"
      },
      "execution_count": null,
      "outputs": [
        {
          "output_type": "stream",
          "name": "stdout",
          "text": [
            "Index(['nome', 'notas', 'tentativas', 'aprovado'], dtype='object')\n"
          ]
        }
      ]
    }
  ]
}