{
  "nbformat": 4,
  "nbformat_minor": 0,
  "metadata": {
    "colab": {
      "provenance": [],
      "authorship_tag": "ABX9TyMmgab29PsD5ItOW8S1EuZI",
      "include_colab_link": true
    },
    "kernelspec": {
      "name": "python3",
      "display_name": "Python 3"
    },
    "language_info": {
      "name": "python"
    }
  },
  "cells": [
    {
      "cell_type": "markdown",
      "metadata": {
        "id": "view-in-github",
        "colab_type": "text"
      },
      "source": [
        "<a href=\"https://colab.research.google.com/github/pedrocacioli8/AulasSirius/blob/main/Aula_09_Estrutura_de_Repeti%C3%A7%C3%A3o_For.ipynb\" target=\"_parent\"><img src=\"https://colab.research.google.com/assets/colab-badge.svg\" alt=\"Open In Colab\"/></a>"
      ]
    },
    {
      "cell_type": "code",
      "execution_count": null,
      "metadata": {
        "id": "_SH3UrQmLIyo"
      },
      "outputs": [],
      "source": [
        "mensagens = \"Bem vindo a Sirius\""
      ]
    },
    {
      "cell_type": "code",
      "source": [
        "print(mensagens, mensagens, mensagens, mensagens)"
      ],
      "metadata": {
        "colab": {
          "base_uri": "https://localhost:8080/"
        },
        "id": "_juLaYAbLlg-",
        "outputId": "0e82ef63-e1a4-474c-d9de-13f318720584"
      },
      "execution_count": null,
      "outputs": [
        {
          "output_type": "stream",
          "name": "stdout",
          "text": [
            "Bem vindo a Sirius Bem vindo a Sirius Bem vindo a Sirius Bem vindo a Sirius\n"
          ]
        }
      ]
    },
    {
      "cell_type": "code",
      "source": [
        "print(mensagens)\n",
        "print(mensagens)\n",
        "print(mensagens)\n",
        "print(mensagens)\n",
        "print(mensagens)"
      ],
      "metadata": {
        "colab": {
          "base_uri": "https://localhost:8080/"
        },
        "id": "b4PdDQ1LLsR6",
        "outputId": "9574b6d3-08c6-419c-94dc-55b86ce618da"
      },
      "execution_count": null,
      "outputs": [
        {
          "output_type": "stream",
          "name": "stdout",
          "text": [
            "Bem vindo a Sirius\n",
            "Bem vindo a Sirius\n",
            "Bem vindo a Sirius\n",
            "Bem vindo a Sirius\n",
            "Bem vindo a Sirius\n"
          ]
        }
      ]
    },
    {
      "cell_type": "code",
      "source": [
        "for i in range(5):\n",
        "  print(mensagens)"
      ],
      "metadata": {
        "colab": {
          "base_uri": "https://localhost:8080/"
        },
        "id": "20c9RGl0L8V_",
        "outputId": "7549dac3-c49e-436e-eaed-f6bf731f924f"
      },
      "execution_count": null,
      "outputs": [
        {
          "output_type": "stream",
          "name": "stdout",
          "text": [
            "Bem vindo a Sirius\n",
            "Bem vindo a Sirius\n",
            "Bem vindo a Sirius\n",
            "Bem vindo a Sirius\n",
            "Bem vindo a Sirius\n"
          ]
        }
      ]
    },
    {
      "cell_type": "code",
      "source": [
        "for i in range(5):\n",
        "  print(i)"
      ],
      "metadata": {
        "colab": {
          "base_uri": "https://localhost:8080/"
        },
        "id": "NVnFcDk3MPfG",
        "outputId": "b31f4759-25af-419f-c77e-87b130ca03a9"
      },
      "execution_count": null,
      "outputs": [
        {
          "output_type": "stream",
          "name": "stdout",
          "text": [
            "0\n",
            "1\n",
            "2\n",
            "3\n",
            "4\n"
          ]
        }
      ]
    },
    {
      "cell_type": "code",
      "source": [
        "for i in range (1, 11):\n",
        "  print(i)"
      ],
      "metadata": {
        "colab": {
          "base_uri": "https://localhost:8080/"
        },
        "id": "7NCzO6V1Midv",
        "outputId": "cf2c53c7-b31f-44fd-a1ff-a3e7c2c3b29c"
      },
      "execution_count": null,
      "outputs": [
        {
          "output_type": "stream",
          "name": "stdout",
          "text": [
            "1\n",
            "2\n",
            "3\n",
            "4\n",
            "5\n",
            "6\n",
            "7\n",
            "8\n",
            "9\n",
            "10\n"
          ]
        }
      ]
    },
    {
      "cell_type": "code",
      "source": [
        "for i in range (1, 11, 2):\n",
        "  print(i)"
      ],
      "metadata": {
        "colab": {
          "base_uri": "https://localhost:8080/"
        },
        "id": "KNWLSGd9NPWG",
        "outputId": "6f258ee4-c553-44cf-cd57-232d1f2c3349"
      },
      "execution_count": null,
      "outputs": [
        {
          "output_type": "stream",
          "name": "stdout",
          "text": [
            "1\n",
            "3\n",
            "5\n",
            "7\n",
            "9\n"
          ]
        }
      ]
    },
    {
      "cell_type": "code",
      "source": [
        "soma = 1 + 2 + 3 + 4 + 5 + 6 + 7 + 8 + 9 + 10\n",
        "print(soma)"
      ],
      "metadata": {
        "colab": {
          "base_uri": "https://localhost:8080/"
        },
        "id": "4X2f5-NPNbG-",
        "outputId": "85072bd4-273d-4cad-db08-67c9f45fedc9"
      },
      "execution_count": null,
      "outputs": [
        {
          "output_type": "stream",
          "name": "stdout",
          "text": [
            "55\n"
          ]
        }
      ]
    },
    {
      "cell_type": "code",
      "source": [
        "soma = 0\n",
        "for i in range(1, 11):\n",
        "  soma = soma + i"
      ],
      "metadata": {
        "id": "4yZi_SYBNz92"
      },
      "execution_count": null,
      "outputs": []
    },
    {
      "cell_type": "code",
      "source": [
        "print(soma)"
      ],
      "metadata": {
        "colab": {
          "base_uri": "https://localhost:8080/"
        },
        "id": "yEcwzzGjOJU3",
        "outputId": "ccae1707-abff-42a5-e6f2-147b9cbfe046"
      },
      "execution_count": null,
      "outputs": [
        {
          "output_type": "stream",
          "name": "stdout",
          "text": [
            "55\n"
          ]
        }
      ]
    },
    {
      "cell_type": "code",
      "source": [
        "numeros_1 = int(input(\"Digite o 1 numero: \"))\n",
        "numeros_2 = int(input(\"Digite o 2 numero: \"))\n",
        "numeros_3 = int(input(\"Digite o 3 numero: \"))\n",
        "numeros_4 = int(input(\"Digite o 4 numero: \"))\n",
        "numeros_5 = int(input(\"Digite o 5 numero: \"))"
      ],
      "metadata": {
        "colab": {
          "base_uri": "https://localhost:8080/"
        },
        "id": "mwCgVpwEPCKy",
        "outputId": "e6d65d7c-1628-4561-907b-4b80fdc36d30"
      },
      "execution_count": null,
      "outputs": [
        {
          "name": "stdout",
          "output_type": "stream",
          "text": [
            "Digite o 1 numero: 10\n",
            "Digite o 2 numero: 8\n",
            "Digite o 3 numero: 10\n",
            "Digite o 4 numero: 5\n",
            "Digite o 5 numero: 5\n"
          ]
        }
      ]
    },
    {
      "cell_type": "code",
      "source": [
        "soma = numeros_1 + numeros_2 + numeros_3 + numeros_4 + numeros_5\n",
        "print(soma)"
      ],
      "metadata": {
        "colab": {
          "base_uri": "https://localhost:8080/"
        },
        "id": "qhQVmLuYPmrx",
        "outputId": "dba59803-47cd-4509-b0eb-30d536946076"
      },
      "execution_count": null,
      "outputs": [
        {
          "output_type": "stream",
          "name": "stdout",
          "text": [
            "38\n"
          ]
        }
      ]
    },
    {
      "cell_type": "code",
      "source": [
        "soma = 0\n",
        "for i in range(5):\n",
        "  numero = int(input(\"Digite o numero: \"))\n",
        "  soma = soma + numero\n",
        "  print(f\"a soma é igual a {soma}\")\n"
      ],
      "metadata": {
        "colab": {
          "base_uri": "https://localhost:8080/"
        },
        "id": "KfKStMKvP3-g",
        "outputId": "fd5c170b-5de3-4e93-ed15-e77152d7a09a"
      },
      "execution_count": null,
      "outputs": [
        {
          "output_type": "stream",
          "name": "stdout",
          "text": [
            "Digite o numero: 10\n",
            "a soma é igual a 10\n",
            "Digite o numero: 1\n",
            "a soma é igual a 11\n",
            "Digite o numero: 5\n",
            "a soma é igual a 16\n",
            "Digite o numero: 10\n",
            "a soma é igual a 26\n",
            "Digite o numero: 5\n",
            "a soma é igual a 31\n"
          ]
        }
      ]
    },
    {
      "cell_type": "code",
      "source": [
        "lista = [1,2,3,4,5]\n",
        "for i in lista:\n",
        "  print(i)"
      ],
      "metadata": {
        "colab": {
          "base_uri": "https://localhost:8080/"
        },
        "id": "WZvVB7I2Qd9v",
        "outputId": "703affbd-7580-44bb-b473-f510752a1b8e"
      },
      "execution_count": null,
      "outputs": [
        {
          "output_type": "stream",
          "name": "stdout",
          "text": [
            "1\n",
            "2\n",
            "3\n",
            "4\n",
            "5\n"
          ]
        }
      ]
    },
    {
      "cell_type": "code",
      "source": [
        "notas = {\"Matemática\": 10, \"Português\": 8, \"Algoritmo\": 8}"
      ],
      "metadata": {
        "id": "dbMqplfmQ76g"
      },
      "execution_count": null,
      "outputs": []
    },
    {
      "cell_type": "code",
      "source": [
        "for i in notas.items():\n",
        "  print(i)"
      ],
      "metadata": {
        "colab": {
          "base_uri": "https://localhost:8080/"
        },
        "id": "Xwe3xKdJRM_x",
        "outputId": "93787948-2fe4-482a-8a1a-283ffc2e766b"
      },
      "execution_count": null,
      "outputs": [
        {
          "output_type": "stream",
          "name": "stdout",
          "text": [
            "('Matemática', 10)\n",
            "('Português', 8)\n",
            "('Algoritmo', 8)\n"
          ]
        }
      ]
    },
    {
      "cell_type": "code",
      "source": [
        "for chave, valor in notas.items():\n",
        "  print(f\"Chave = {chave} e valor = {valor}\")"
      ],
      "metadata": {
        "colab": {
          "base_uri": "https://localhost:8080/"
        },
        "id": "Ucry_7ZARl-U",
        "outputId": "7eb08dd3-e138-4293-c3d2-3ba892c22fbf"
      },
      "execution_count": null,
      "outputs": [
        {
          "output_type": "stream",
          "name": "stdout",
          "text": [
            "Chave = Matemática e valor = 10\n",
            "Chave = Português e valor = 8\n",
            "Chave = Algoritmo e valor = 8\n"
          ]
        }
      ]
    }
  ]
}