{
  "nbformat": 4,
  "nbformat_minor": 0,
  "metadata": {
    "colab": {
      "provenance": [],
      "authorship_tag": "ABX9TyOxqO6mh/xXDuLdO821oZv1",
      "include_colab_link": true
    },
    "kernelspec": {
      "name": "python3",
      "display_name": "Python 3"
    },
    "language_info": {
      "name": "python"
    }
  },
  "cells": [
    {
      "cell_type": "markdown",
      "metadata": {
        "id": "view-in-github",
        "colab_type": "text"
      },
      "source": [
        "<a href=\"https://colab.research.google.com/github/pedrocacioli8/AulasSirius/blob/main/Aula_10_Estrutura_de_Repeti%C3%A7%C3%A3o_While.ipynb\" target=\"_parent\"><img src=\"https://colab.research.google.com/assets/colab-badge.svg\" alt=\"Open In Colab\"/></a>"
      ]
    },
    {
      "cell_type": "code",
      "execution_count": null,
      "metadata": {
        "colab": {
          "base_uri": "https://localhost:8080/"
        },
        "id": "kP7uph1PSNag",
        "outputId": "32f9eab0-ef11-4651-8d34-7480d7ad4ab7"
      },
      "outputs": [
        {
          "output_type": "stream",
          "name": "stdout",
          "text": [
            "Olá, Mundo !\n",
            "Olá, Mundo !\n",
            "Olá, Mundo !\n",
            "Olá, Mundo !\n",
            "Olá, Mundo !\n"
          ]
        }
      ],
      "source": [
        "contador = 0\n",
        "while contador < 5:\n",
        "  print(\"Olá, Mundo !\")\n",
        "  contador = contador + 1"
      ]
    },
    {
      "cell_type": "code",
      "source": [
        "n = 1\n",
        "soma = 0\n",
        "while n != 0:\n",
        "  numero = int(input(\"Digite um número: \"))\n",
        "\n",
        "  soma = soma + numero\n",
        "\n",
        "  if numero == 0:\n",
        "    n = 0"
      ],
      "metadata": {
        "colab": {
          "base_uri": "https://localhost:8080/"
        },
        "id": "ryRp00mjTLUd",
        "outputId": "4a4adf86-1532-46c4-f76b-744f32f65662"
      },
      "execution_count": null,
      "outputs": [
        {
          "name": "stdout",
          "output_type": "stream",
          "text": [
            "Digite um número: 4\n",
            "Digite um número: 1\n",
            "Digite um número: 9\n",
            "Digite um número: 2\n",
            "Digite um número: 5\n",
            "Digite um número: 6\n",
            "Digite um número: 0\n"
          ]
        }
      ]
    },
    {
      "cell_type": "code",
      "source": [
        "soma = 0\n",
        "lista = []\n",
        "while True:\n",
        "  numero = int(input(\"Digite um número: \"))\n",
        "  lista.append(numero)\n",
        "\n",
        "  soma = soma + numero\n",
        "\n",
        "  if numero == 0:\n",
        "    break\n"
      ],
      "metadata": {
        "colab": {
          "base_uri": "https://localhost:8080/"
        },
        "id": "NTQHt1H5WpLj",
        "outputId": "b53ce7a1-c992-4a6c-c2bc-31e80ebc4092"
      },
      "execution_count": null,
      "outputs": [
        {
          "name": "stdout",
          "output_type": "stream",
          "text": [
            "Digite um número: 2\n",
            "Digite um número: 3\n",
            "Digite um número: 4\n",
            "Digite um número: 5\n",
            "Digite um número: 0\n"
          ]
        }
      ]
    },
    {
      "cell_type": "code",
      "source": [
        "print(lista)"
      ],
      "metadata": {
        "colab": {
          "base_uri": "https://localhost:8080/"
        },
        "id": "618IvF7rXOIO",
        "outputId": "9009d2fc-8a7c-4cce-b1dd-4a47f08ef6be"
      },
      "execution_count": null,
      "outputs": [
        {
          "output_type": "stream",
          "name": "stdout",
          "text": [
            "[2, 3, 4, 5, 0]\n"
          ]
        }
      ]
    },
    {
      "cell_type": "code",
      "source": [
        "n = 1\n",
        "soma = 0\n",
        "\n",
        "while n <= 10:\n",
        "  soma = soma + n\n",
        "\n",
        "  n = n + 1\n"
      ],
      "metadata": {
        "id": "geluzkn9XVS_"
      },
      "execution_count": null,
      "outputs": []
    },
    {
      "cell_type": "code",
      "source": [
        "print (f\"a soma é igual a {soma}\")"
      ],
      "metadata": {
        "colab": {
          "base_uri": "https://localhost:8080/"
        },
        "id": "OhdL83V_X1d9",
        "outputId": "10ef183f-b20e-43c0-92b7-7ec285185e91"
      },
      "execution_count": null,
      "outputs": [
        {
          "output_type": "stream",
          "name": "stdout",
          "text": [
            "a soma é igual a 55\n"
          ]
        }
      ]
    },
    {
      "cell_type": "code",
      "source": [
        "n = 1\n",
        "soma = 0\n",
        "\n",
        "while n <=5:\n",
        "\n",
        "  numero = int(input(\"Digite um número: \"))\n",
        "  soma = soma + numero\n",
        "\n",
        "  n = n + 1"
      ],
      "metadata": {
        "colab": {
          "base_uri": "https://localhost:8080/"
        },
        "id": "WuDehHkbX9sM",
        "outputId": "152cfb39-9fcb-4d69-c79b-bc4b020045a8"
      },
      "execution_count": null,
      "outputs": [
        {
          "name": "stdout",
          "output_type": "stream",
          "text": [
            "Digite um número: 5\n",
            "Digite um número: 10\n",
            "Digite um número: 1\n",
            "Digite um número: 10\n",
            "Digite um número: 5\n"
          ]
        }
      ]
    },
    {
      "cell_type": "code",
      "source": [
        "print(f\"a soma é igual a {soma}\")"
      ],
      "metadata": {
        "id": "iPx9iTg-YYHN",
        "outputId": "e6073d1f-870a-476f-f10b-c4cead47e27e",
        "colab": {
          "base_uri": "https://localhost:8080/"
        }
      },
      "execution_count": null,
      "outputs": [
        {
          "output_type": "stream",
          "name": "stdout",
          "text": [
            "a soma é igual a 31\n"
          ]
        }
      ]
    }
  ]
}