{
  "nbformat": 4,
  "nbformat_minor": 0,
  "metadata": {
    "colab": {
      "provenance": [],
      "authorship_tag": "ABX9TyOGugo8DmZx7kmVVRuxtI6V",
      "include_colab_link": true
    },
    "kernelspec": {
      "name": "python3",
      "display_name": "Python 3"
    },
    "language_info": {
      "name": "python"
    }
  },
  "cells": [
    {
      "cell_type": "markdown",
      "metadata": {
        "id": "view-in-github",
        "colab_type": "text"
      },
      "source": [
        "<a href=\"https://colab.research.google.com/github/pedrocacioli8/AulasSirius/blob/main/Aula_04_Operadores_L%C3%B3gicos_e_Ordem_de_Preced%C3%AAncia_dos_Operadores.ipynb\" target=\"_parent\"><img src=\"https://colab.research.google.com/assets/colab-badge.svg\" alt=\"Open In Colab\"/></a>"
      ]
    },
    {
      "cell_type": "code",
      "execution_count": null,
      "metadata": {
        "id": "ferwLkpfcCU7"
      },
      "outputs": [],
      "source": []
    },
    {
      "cell_type": "markdown",
      "source": [
        "# Operadores Lógicos"
      ],
      "metadata": {
        "id": "q6Wpawm_cQHU"
      }
    },
    {
      "cell_type": "code",
      "source": [
        "# not\n",
        "x = 1\n",
        "print(x == 1)\n",
        "print(not x == 1)"
      ],
      "metadata": {
        "colab": {
          "base_uri": "https://localhost:8080/"
        },
        "id": "_pa-XfHDcSjG",
        "outputId": "99eff17c-180e-4e51-ea90-05ce52ba72b2"
      },
      "execution_count": null,
      "outputs": [
        {
          "output_type": "stream",
          "name": "stdout",
          "text": [
            "True\n",
            "False\n"
          ]
        }
      ]
    },
    {
      "cell_type": "code",
      "source": [
        "# and\n",
        "x = 1\n",
        "print(x > 0 and x < 100)\n",
        "#retorna verdadeiro se ambas afirmações forem verdadeiras\n",
        "\n",
        "print(x > 1 and x < 100)\n",
        "#se uma afirmação for falsa, retornará falsa"
      ],
      "metadata": {
        "colab": {
          "base_uri": "https://localhost:8080/"
        },
        "id": "ZLUZBG-2cgBE",
        "outputId": "4fd3a716-6bb6-44a6-88c0-5bbe52a9f5f9"
      },
      "execution_count": null,
      "outputs": [
        {
          "output_type": "stream",
          "name": "stdout",
          "text": [
            "True\n",
            "False\n"
          ]
        }
      ]
    },
    {
      "cell_type": "code",
      "source": [
        "# or\n",
        "x = 1\n",
        "print(x > 0 or x < 100)\n",
        "#basta uma afirmação ser verdadeira para voltar verdadeira\n",
        "\n",
        "print(x > 200 or x < 100)\n",
        "#a primeira é falsa, mas pelo fato da segunda ser verdadeira, retorna verdadeira"
      ],
      "metadata": {
        "colab": {
          "base_uri": "https://localhost:8080/"
        },
        "id": "dBRK7M7NdVd8",
        "outputId": "f4dc30d3-68d7-47bc-f6e1-fc93d99c1c84"
      },
      "execution_count": null,
      "outputs": [
        {
          "output_type": "stream",
          "name": "stdout",
          "text": [
            "True\n",
            "True\n"
          ]
        }
      ]
    },
    {
      "cell_type": "markdown",
      "source": [
        "Ordem de Precedência dos Operadores"
      ],
      "metadata": {
        "id": "Z2CSXrLud4b9"
      }
    },
    {
      "cell_type": "code",
      "source": [
        "#parenteses\n",
        "#exponenciacao\n",
        "#multiplicacao, divisao, modulo e divisao inteira\n",
        "#adicao e subtracao"
      ],
      "metadata": {
        "id": "UTphNETcd7jF"
      },
      "execution_count": null,
      "outputs": []
    },
    {
      "cell_type": "code",
      "source": [],
      "metadata": {
        "id": "RZ5YtJ_dmPTn"
      },
      "execution_count": null,
      "outputs": []
    }
  ]
}