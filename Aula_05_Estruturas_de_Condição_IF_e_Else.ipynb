{
  "nbformat": 4,
  "nbformat_minor": 0,
  "metadata": {
    "colab": {
      "provenance": [],
      "authorship_tag": "ABX9TyPZRsvLWM3Cwtv3H7hzdLs2",
      "include_colab_link": true
    },
    "kernelspec": {
      "name": "python3",
      "display_name": "Python 3"
    },
    "language_info": {
      "name": "python"
    }
  },
  "cells": [
    {
      "cell_type": "markdown",
      "metadata": {
        "id": "view-in-github",
        "colab_type": "text"
      },
      "source": [
        "<a href=\"https://colab.research.google.com/github/pedrocacioli8/AulasSirius/blob/main/Aula_05_Estruturas_de_Condi%C3%A7%C3%A3o_IF_e_Else.ipynb\" target=\"_parent\"><img src=\"https://colab.research.google.com/assets/colab-badge.svg\" alt=\"Open In Colab\"/></a>"
      ]
    },
    {
      "cell_type": "code",
      "execution_count": null,
      "metadata": {
        "id": "EoHFoPnlmufN"
      },
      "outputs": [],
      "source": [
        "soma = 10 + 2"
      ]
    },
    {
      "cell_type": "code",
      "source": [
        "if soma > 20:\n",
        "  print(\"A soma é maior que 20\")"
      ],
      "metadata": {
        "id": "tr8CUD8UsG07"
      },
      "execution_count": null,
      "outputs": []
    },
    {
      "cell_type": "code",
      "source": [
        "if soma < 20:\n",
        "  print(\"A soma é menor que 20\")"
      ],
      "metadata": {
        "colab": {
          "base_uri": "https://localhost:8080/"
        },
        "id": "Tz74wuTNsVMD",
        "outputId": "457593aa-845d-4edb-8ee2-7140bfa58116"
      },
      "execution_count": null,
      "outputs": [
        {
          "output_type": "stream",
          "name": "stdout",
          "text": [
            "A soma é menor que 20\n"
          ]
        }
      ]
    },
    {
      "cell_type": "code",
      "source": [
        "if soma > 20:\n",
        "  print(\"A soma é maior que 20\")\n",
        "else:\n",
        "  print(\"A soma não é maior que 20\")"
      ],
      "metadata": {
        "colab": {
          "base_uri": "https://localhost:8080/"
        },
        "id": "G4Cj3zVVsbcD",
        "outputId": "fdbe8328-2360-4f9e-8481-eff6349e835d"
      },
      "execution_count": null,
      "outputs": [
        {
          "output_type": "stream",
          "name": "stdout",
          "text": [
            "A soma não é maior que 20\n"
          ]
        }
      ]
    },
    {
      "cell_type": "code",
      "source": [
        "a = 10\n",
        "b = 10"
      ],
      "metadata": {
        "id": "ML6mYFJYsxAl"
      },
      "execution_count": null,
      "outputs": []
    },
    {
      "cell_type": "code",
      "source": [
        "if a > b:\n",
        "  print(f\"{a} é maior que {b}\")\n",
        "else:\n",
        "  print(f\"{b} é maior que {a}\")"
      ],
      "metadata": {
        "colab": {
          "base_uri": "https://localhost:8080/"
        },
        "id": "huEgmy6HszRQ",
        "outputId": "79f459eb-2f27-4dd9-e1a9-83ad76b6c96e"
      },
      "execution_count": null,
      "outputs": [
        {
          "output_type": "stream",
          "name": "stdout",
          "text": [
            "10 é maior que 10\n"
          ]
        }
      ]
    },
    {
      "cell_type": "code",
      "source": [
        "if a > b:\n",
        "  print(f\"{a} é maior que {b}\")\n",
        "elif b > a:\n",
        "  print(f\"{b} é maior que {a}\")\n",
        "else:\n",
        "  print(f\"os valores são iguais\")"
      ],
      "metadata": {
        "colab": {
          "base_uri": "https://localhost:8080/"
        },
        "id": "eSg3bijouNWl",
        "outputId": "2cf7809c-5e04-448a-db49-50cd22825936"
      },
      "execution_count": null,
      "outputs": [
        {
          "output_type": "stream",
          "name": "stdout",
          "text": [
            "os valores são iguais\n"
          ]
        }
      ]
    },
    {
      "cell_type": "code",
      "source": [
        "media = 8"
      ],
      "metadata": {
        "id": "K4nY1gpLusqB"
      },
      "execution_count": null,
      "outputs": []
    },
    {
      "cell_type": "code",
      "source": [
        "if (media >= 7) and (media <= 10):\n",
        "  print(\"Aluno Aprovado\")\n",
        "elif (media < 7) and (media >= 5):\n",
        "  print(\"Aluno está de Recuperação\")\n",
        "else:\n",
        "  print(\"Aluno reprovado\")"
      ],
      "metadata": {
        "colab": {
          "base_uri": "https://localhost:8080/"
        },
        "id": "UzrNxwxVuvEx",
        "outputId": "d2ab48d7-2945-4f7d-bc11-67e9618f9516"
      },
      "execution_count": null,
      "outputs": [
        {
          "output_type": "stream",
          "name": "stdout",
          "text": [
            "Aluno Aprovado\n"
          ]
        }
      ]
    },
    {
      "cell_type": "code",
      "source": [
        "nome = input(\"Digite seu nome: \")\n",
        "idade = int(input(\"Digite sua idade: \"))"
      ],
      "metadata": {
        "colab": {
          "base_uri": "https://localhost:8080/"
        },
        "id": "K3wtU-slwHp0",
        "outputId": "2613b2fe-4aa7-4f73-8223-8ed4842e8c67"
      },
      "execution_count": null,
      "outputs": [
        {
          "name": "stdout",
          "output_type": "stream",
          "text": [
            "Digite seu nome: Daniela\n",
            "Digite sua idade: 20\n"
          ]
        }
      ]
    },
    {
      "cell_type": "code",
      "source": [
        "if (idade >= 0) and (idade <= 9):\n",
        "  print (f\"{nome} é uma criança\")\n",
        "elif (idade >=10) and (idade <=14):\n",
        "  print(f\"{nome} é um Pré-adolescente\")\n",
        "elif (idade >=15) and (idade <=19):\n",
        "  print(f\"{nome} é um Adolescente\")\n",
        "else:\n",
        "  print(f\"{nome} é um Jovem\")"
      ],
      "metadata": {
        "colab": {
          "base_uri": "https://localhost:8080/"
        },
        "id": "GBK9MZn3wWgT",
        "outputId": "4f7893c6-7033-4daf-cb34-806463c2cd70"
      },
      "execution_count": null,
      "outputs": [
        {
          "output_type": "stream",
          "name": "stdout",
          "text": [
            "Daniela é um Jovem\n"
          ]
        }
      ]
    }
  ]
}