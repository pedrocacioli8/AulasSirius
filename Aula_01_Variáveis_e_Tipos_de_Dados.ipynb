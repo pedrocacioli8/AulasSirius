{
  "nbformat": 4,
  "nbformat_minor": 0,
  "metadata": {
    "colab": {
      "provenance": [],
      "authorship_tag": "ABX9TyNJGMyFB3+k59o3/k+5N2QA",
      "include_colab_link": true
    },
    "kernelspec": {
      "name": "python3",
      "display_name": "Python 3"
    },
    "language_info": {
      "name": "python"
    }
  },
  "cells": [
    {
      "cell_type": "markdown",
      "metadata": {
        "id": "view-in-github",
        "colab_type": "text"
      },
      "source": [
        "<a href=\"https://colab.research.google.com/github/pedrocacioli8/AulasSirius/blob/main/Aula_01_Vari%C3%A1veis_e_Tipos_de_Dados.ipynb\" target=\"_parent\"><img src=\"https://colab.research.google.com/assets/colab-badge.svg\" alt=\"Open In Colab\"/></a>"
      ]
    },
    {
      "cell_type": "code",
      "execution_count": null,
      "metadata": {
        "id": "laNPIXynUFL5"
      },
      "outputs": [],
      "source": []
    },
    {
      "cell_type": "markdown",
      "source": [
        "# **Aula 01 - Variáveis e Tipos de Dados**"
      ],
      "metadata": {
        "id": "3cf4JwvYULyw"
      }
    },
    {
      "cell_type": "code",
      "source": [
        "nota = 11"
      ],
      "metadata": {
        "id": "8xGZHZ--UQku"
      },
      "execution_count": null,
      "outputs": []
    },
    {
      "cell_type": "code",
      "source": [
        "nota"
      ],
      "metadata": {
        "colab": {
          "base_uri": "https://localhost:8080/"
        },
        "id": "YOpfa_4AVGsh",
        "outputId": "455c9ac2-6540-4b22-e662-6be3ba1c0318"
      },
      "execution_count": null,
      "outputs": [
        {
          "output_type": "execute_result",
          "data": {
            "text/plain": [
              "11"
            ]
          },
          "metadata": {},
          "execution_count": 4
        }
      ]
    },
    {
      "cell_type": "code",
      "source": [
        "Nota = 9"
      ],
      "metadata": {
        "id": "DYckWMRHVZFr"
      },
      "execution_count": null,
      "outputs": []
    },
    {
      "cell_type": "code",
      "source": [
        "Nota"
      ],
      "metadata": {
        "colab": {
          "base_uri": "https://localhost:8080/"
        },
        "id": "Zgv6-dbLVbD1",
        "outputId": "5a041354-10a8-4698-b3f9-d32b92d9eb94"
      },
      "execution_count": null,
      "outputs": [
        {
          "output_type": "execute_result",
          "data": {
            "text/plain": [
              "9"
            ]
          },
          "metadata": {},
          "execution_count": 6
        }
      ]
    },
    {
      "cell_type": "code",
      "source": [
        "_nota =8"
      ],
      "metadata": {
        "id": "9H-_i9X-bqgX"
      },
      "execution_count": null,
      "outputs": []
    },
    {
      "cell_type": "code",
      "source": [
        "nota1 = 10"
      ],
      "metadata": {
        "id": "SYkF7c3nbxXU"
      },
      "execution_count": null,
      "outputs": []
    },
    {
      "cell_type": "code",
      "source": [
        "nota_1 = 8"
      ],
      "metadata": {
        "id": "yBziToLCb3b4"
      },
      "execution_count": null,
      "outputs": []
    },
    {
      "cell_type": "code",
      "source": [
        "nota_um = 10"
      ],
      "metadata": {
        "id": "SGW8FTHHb7AT"
      },
      "execution_count": null,
      "outputs": []
    },
    {
      "cell_type": "markdown",
      "source": [
        "# Declarações Inválidas\n"
      ],
      "metadata": {
        "id": "dVzE_AbIcBB4"
      }
    },
    {
      "cell_type": "code",
      "source": [
        "#nota 1 = 10 [com espaçamento]"
      ],
      "metadata": {
        "id": "4DGGleIkcF_N"
      },
      "execution_count": null,
      "outputs": []
    },
    {
      "cell_type": "code",
      "source": [
        "# 1nota = 10 [com número na frente]"
      ],
      "metadata": {
        "id": "M5A6542KcL9g"
      },
      "execution_count": null,
      "outputs": []
    },
    {
      "cell_type": "code",
      "source": [
        "#nota1s = 10 [número depois letra]"
      ],
      "metadata": {
        "id": "B38g8nyocRg4"
      },
      "execution_count": null,
      "outputs": []
    },
    {
      "cell_type": "code",
      "source": [
        "#nota[)] = 10 [com caractere especial]"
      ],
      "metadata": {
        "id": "7cHuQCfEcV5d"
      },
      "execution_count": null,
      "outputs": []
    },
    {
      "cell_type": "markdown",
      "source": [
        "# Tipos de variáveis"
      ],
      "metadata": {
        "id": "8HGmnV0Ccc4I"
      }
    },
    {
      "cell_type": "code",
      "source": [
        "nota = 11"
      ],
      "metadata": {
        "id": "FyESjxTAcf8a"
      },
      "execution_count": null,
      "outputs": []
    },
    {
      "cell_type": "code",
      "source": [
        "type(nota)"
      ],
      "metadata": {
        "colab": {
          "base_uri": "https://localhost:8080/"
        },
        "id": "2vnGJjE3cvz5",
        "outputId": "a122b0f5-2034-4fd0-bbdb-bec2fb08930b"
      },
      "execution_count": null,
      "outputs": [
        {
          "output_type": "execute_result",
          "data": {
            "text/plain": [
              "int"
            ]
          },
          "metadata": {},
          "execution_count": 6
        }
      ]
    },
    {
      "cell_type": "code",
      "source": [
        "altura = 1.65"
      ],
      "metadata": {
        "id": "7UFbYf-NdLi-"
      },
      "execution_count": null,
      "outputs": []
    },
    {
      "cell_type": "code",
      "source": [
        "type(altura)"
      ],
      "metadata": {
        "colab": {
          "base_uri": "https://localhost:8080/"
        },
        "id": "jRKn7yUldPPg",
        "outputId": "390a5b96-e730-4a0b-f29b-3798a9d214cb"
      },
      "execution_count": null,
      "outputs": [
        {
          "output_type": "execute_result",
          "data": {
            "text/plain": [
              "float"
            ]
          },
          "metadata": {},
          "execution_count": 14
        }
      ]
    },
    {
      "cell_type": "code",
      "source": [
        "altura"
      ],
      "metadata": {
        "colab": {
          "base_uri": "https://localhost:8080/"
        },
        "id": "RvpZLvpFdYV2",
        "outputId": "503ab9c0-f0b4-4264-b1de-1da68736b2a2"
      },
      "execution_count": null,
      "outputs": [
        {
          "output_type": "execute_result",
          "data": {
            "text/plain": [
              "1.65"
            ]
          },
          "metadata": {},
          "execution_count": 15
        }
      ]
    },
    {
      "cell_type": "code",
      "source": [
        "verificacao = True #False"
      ],
      "metadata": {
        "id": "xa-_RTsbdrpt"
      },
      "execution_count": null,
      "outputs": []
    },
    {
      "cell_type": "code",
      "source": [
        "type(verificacao)"
      ],
      "metadata": {
        "colab": {
          "base_uri": "https://localhost:8080/"
        },
        "id": "H4LVBy2Vd4O-",
        "outputId": "27f09742-8669-48a6-e603-2f0223defc85"
      },
      "execution_count": null,
      "outputs": [
        {
          "output_type": "execute_result",
          "data": {
            "text/plain": [
              "bool"
            ]
          },
          "metadata": {},
          "execution_count": 17
        }
      ]
    },
    {
      "cell_type": "code",
      "source": [
        "mensagem = \"Bem-vindo a Sirius\""
      ],
      "metadata": {
        "id": "-Jly4ulLd9pb"
      },
      "execution_count": null,
      "outputs": []
    },
    {
      "cell_type": "code",
      "source": [
        "type(mensagem)"
      ],
      "metadata": {
        "colab": {
          "base_uri": "https://localhost:8080/"
        },
        "id": "LbKM7pTIeCDB",
        "outputId": "2aae879c-c0b6-472e-d0ff-2da43531ba4b"
      },
      "execution_count": null,
      "outputs": [
        {
          "output_type": "execute_result",
          "data": {
            "text/plain": [
              "str"
            ]
          },
          "metadata": {},
          "execution_count": 19
        }
      ]
    },
    {
      "cell_type": "code",
      "source": [
        "mensagem"
      ],
      "metadata": {
        "colab": {
          "base_uri": "https://localhost:8080/",
          "height": 35
        },
        "id": "WZOMJReseJxE",
        "outputId": "650e8c7c-4783-4e87-8e0b-792f2bd71074"
      },
      "execution_count": null,
      "outputs": [
        {
          "output_type": "execute_result",
          "data": {
            "text/plain": [
              "'Bem-vindo a Sirius'"
            ],
            "application/vnd.google.colaboratory.intrinsic+json": {
              "type": "string"
            }
          },
          "metadata": {},
          "execution_count": 20
        }
      ]
    },
    {
      "cell_type": "code",
      "source": [
        "idade = \"11\""
      ],
      "metadata": {
        "id": "tDvPs3yZeZfX"
      },
      "execution_count": null,
      "outputs": []
    },
    {
      "cell_type": "code",
      "source": [
        "type(idade)"
      ],
      "metadata": {
        "id": "Q4C5IJnbecTb",
        "outputId": "8ceeaab2-e214-4798-9e95-286d6d430d5b",
        "colab": {
          "base_uri": "https://localhost:8080/"
        }
      },
      "execution_count": null,
      "outputs": [
        {
          "output_type": "execute_result",
          "data": {
            "text/plain": [
              "str"
            ]
          },
          "metadata": {},
          "execution_count": 22
        }
      ]
    }
  ]
}