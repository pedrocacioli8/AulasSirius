{
  "nbformat": 4,
  "nbformat_minor": 0,
  "metadata": {
    "colab": {
      "provenance": [],
      "authorship_tag": "ABX9TyNblleI3VtR0MgbrgwxdMCo",
      "include_colab_link": true
    },
    "kernelspec": {
      "name": "python3",
      "display_name": "Python 3"
    },
    "language_info": {
      "name": "python"
    }
  },
  "cells": [
    {
      "cell_type": "markdown",
      "metadata": {
        "id": "view-in-github",
        "colab_type": "text"
      },
      "source": [
        "<a href=\"https://colab.research.google.com/github/pedrocacioli8/AulasSirius/blob/main/Aula_07_Estrutura_de_Dados_Tuplas.ipynb\" target=\"_parent\"><img src=\"https://colab.research.google.com/assets/colab-badge.svg\" alt=\"Open In Colab\"/></a>"
      ]
    },
    {
      "cell_type": "code",
      "execution_count": null,
      "metadata": {
        "colab": {
          "base_uri": "https://localhost:8080/"
        },
        "id": "6Aj7w8vKKNDo",
        "outputId": "c1095f78-f62a-4140-d394-cd73d5d2f310"
      },
      "outputs": [
        {
          "output_type": "stream",
          "name": "stdout",
          "text": [
            "<class 'tuple'>\n"
          ]
        }
      ],
      "source": [
        "tupla = ()\n",
        "print(type(tupla))"
      ]
    },
    {
      "cell_type": "code",
      "source": [
        "tupla = tuple()\n",
        "print(type(tupla))"
      ],
      "metadata": {
        "colab": {
          "base_uri": "https://localhost:8080/"
        },
        "id": "1hyZtavrKghf",
        "outputId": "4f7de58d-3d14-49e8-9808-85e2fdb6e786"
      },
      "execution_count": null,
      "outputs": [
        {
          "output_type": "stream",
          "name": "stdout",
          "text": [
            "<class 'tuple'>\n"
          ]
        }
      ]
    },
    {
      "cell_type": "code",
      "source": [
        "tupla = (\"Sirius\", \"Bootcamp\")\n",
        "print(tupla)"
      ],
      "metadata": {
        "colab": {
          "base_uri": "https://localhost:8080/"
        },
        "id": "LY694kvkKvnH",
        "outputId": "89791c72-0a82-443a-fe1c-7abe74c7d1f8"
      },
      "execution_count": null,
      "outputs": [
        {
          "output_type": "stream",
          "name": "stdout",
          "text": [
            "('Sirius', 'Bootcamp')\n"
          ]
        }
      ]
    },
    {
      "cell_type": "code",
      "source": [
        "tupla = \"Sirius\", \"Bootcamp\", 1\n",
        "print(type(tupla))"
      ],
      "metadata": {
        "colab": {
          "base_uri": "https://localhost:8080/"
        },
        "id": "eK_eY_WiLHUr",
        "outputId": "cdb57594-0b47-4595-f65f-833766fb6687"
      },
      "execution_count": null,
      "outputs": [
        {
          "output_type": "stream",
          "name": "stdout",
          "text": [
            "<class 'tuple'>\n"
          ]
        }
      ]
    },
    {
      "cell_type": "code",
      "source": [
        "tupla = (\"João\", 18)"
      ],
      "metadata": {
        "id": "cuUQHdozLXpv"
      },
      "execution_count": null,
      "outputs": []
    },
    {
      "cell_type": "code",
      "source": [
        "print(tupla[0], tupla[1])"
      ],
      "metadata": {
        "colab": {
          "base_uri": "https://localhost:8080/"
        },
        "id": "sUF0IEdRLcGS",
        "outputId": "fad60fc6-9e8d-492f-8d71-9c0fe4de15ad"
      },
      "execution_count": null,
      "outputs": [
        {
          "output_type": "stream",
          "name": "stdout",
          "text": [
            "João 18\n"
          ]
        }
      ]
    },
    {
      "cell_type": "code",
      "source": [
        "tupla[0] = \"Pedro\"\n",
        "#vai dar erro"
      ],
      "metadata": {
        "id": "JukOS1tnLrxu"
      },
      "execution_count": null,
      "outputs": []
    },
    {
      "cell_type": "code",
      "source": [
        "numeros = (1,4,5,5,6,7,4,9,2)"
      ],
      "metadata": {
        "id": "vBsD61SNL0nj"
      },
      "execution_count": null,
      "outputs": []
    },
    {
      "cell_type": "code",
      "source": [
        "numeros.count(4)"
      ],
      "metadata": {
        "colab": {
          "base_uri": "https://localhost:8080/"
        },
        "id": "_pAi_KBKL8Kq",
        "outputId": "9f95e17b-b9f4-4828-ee40-b884721dc701"
      },
      "execution_count": null,
      "outputs": [
        {
          "output_type": "execute_result",
          "data": {
            "text/plain": [
              "2"
            ]
          },
          "metadata": {},
          "execution_count": 14
        }
      ]
    },
    {
      "cell_type": "code",
      "source": [
        "numeros.index(2)"
      ],
      "metadata": {
        "colab": {
          "base_uri": "https://localhost:8080/"
        },
        "id": "xrwLZHSiL-Fm",
        "outputId": "c04637fa-4d7f-4775-a2cd-da1b6cd513cd"
      },
      "execution_count": null,
      "outputs": [
        {
          "output_type": "execute_result",
          "data": {
            "text/plain": [
              "8"
            ]
          },
          "metadata": {},
          "execution_count": 15
        }
      ]
    },
    {
      "cell_type": "code",
      "source": [
        "tuplas = ([1,2,3], [\"a\", \"b\", \"c\"])\n",
        "print(tuplas)"
      ],
      "metadata": {
        "colab": {
          "base_uri": "https://localhost:8080/"
        },
        "id": "BwtWkV9HMOe0",
        "outputId": "13065569-beae-4075-df20-4624fb717960"
      },
      "execution_count": null,
      "outputs": [
        {
          "output_type": "stream",
          "name": "stdout",
          "text": [
            "([1, 2, 3], ['a', 'b', 'c'])\n"
          ]
        }
      ]
    },
    {
      "cell_type": "code",
      "source": [
        "lista = [(\"João\", 18), (\"Carlos\", 20)]\n",
        "print(lista)"
      ],
      "metadata": {
        "colab": {
          "base_uri": "https://localhost:8080/"
        },
        "id": "gfucvnRgMVvF",
        "outputId": "10c72204-0fa2-4c5c-e719-fb11ef75f3c4"
      },
      "execution_count": null,
      "outputs": [
        {
          "output_type": "stream",
          "name": "stdout",
          "text": [
            "[('João', 18), ('Carlos', 20)]\n"
          ]
        }
      ]
    }
  ]
}