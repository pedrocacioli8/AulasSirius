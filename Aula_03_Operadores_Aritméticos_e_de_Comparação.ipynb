{
  "nbformat": 4,
  "nbformat_minor": 0,
  "metadata": {
    "colab": {
      "provenance": [],
      "authorship_tag": "ABX9TyO70YLyIX+KsU38X7yzHJYh",
      "include_colab_link": true
    },
    "kernelspec": {
      "name": "python3",
      "display_name": "Python 3"
    },
    "language_info": {
      "name": "python"
    }
  },
  "cells": [
    {
      "cell_type": "markdown",
      "metadata": {
        "id": "view-in-github",
        "colab_type": "text"
      },
      "source": [
        "<a href=\"https://colab.research.google.com/github/pedrocacioli8/AulasSirius/blob/main/Aula_03_Operadores_Aritm%C3%A9ticos_e_de_Compara%C3%A7%C3%A3o.ipynb\" target=\"_parent\"><img src=\"https://colab.research.google.com/assets/colab-badge.svg\" alt=\"Open In Colab\"/></a>"
      ]
    },
    {
      "cell_type": "code",
      "execution_count": null,
      "metadata": {
        "colab": {
          "base_uri": "https://localhost:8080/"
        },
        "id": "fcORiktKo_cl",
        "outputId": "31c51bf0-64cd-4914-bd39-44e615de3136"
      },
      "outputs": [
        {
          "output_type": "stream",
          "name": "stdout",
          "text": [
            "11\n"
          ]
        }
      ],
      "source": [
        "#Adição\n",
        "\n",
        "numero_1 = 9\n",
        "numero_2 = 2\n",
        "\n",
        "soma = numero_1 + numero_2\n",
        "\n",
        "print(soma)"
      ]
    },
    {
      "cell_type": "code",
      "source": [
        "print(f\"a soma dos números {numero_1}  + {numero_2} é igual a {soma}\")"
      ],
      "metadata": {
        "colab": {
          "base_uri": "https://localhost:8080/"
        },
        "id": "EsdrvjhvpsBs",
        "outputId": "7d6ebca3-a943-466e-ae31-8ee68fde490f"
      },
      "execution_count": null,
      "outputs": [
        {
          "output_type": "stream",
          "name": "stdout",
          "text": [
            "a soma dos números 9  + 2 é igual a 11\n"
          ]
        }
      ]
    },
    {
      "cell_type": "code",
      "source": [
        "numero_1 = int(input(\"Digite um número: \"))\n",
        "numero_2 = int(input(\"Digite outro número: \"))\n",
        "\n"
      ],
      "metadata": {
        "colab": {
          "base_uri": "https://localhost:8080/"
        },
        "id": "x8-hXwHqp7kj",
        "outputId": "c9ccce31-7611-4ab6-d10b-ba50cad41ad6"
      },
      "execution_count": null,
      "outputs": [
        {
          "name": "stdout",
          "output_type": "stream",
          "text": [
            "Digite um número: 9\n",
            "Digite outro número: 2\n"
          ]
        }
      ]
    },
    {
      "cell_type": "code",
      "source": [
        "soma = numero_1 + numero_2\n",
        "print(f\"a soma dos números {numero_1}  + {numero_2} é igual a {soma}\")\n"
      ],
      "metadata": {
        "colab": {
          "base_uri": "https://localhost:8080/"
        },
        "id": "uHmf70WYqLV2",
        "outputId": "769ad0c3-8047-4852-ccf3-4c0d8242426b"
      },
      "execution_count": null,
      "outputs": [
        {
          "output_type": "stream",
          "name": "stdout",
          "text": [
            "a soma dos números 9  + 2 é igual a 11\n"
          ]
        }
      ]
    },
    {
      "cell_type": "code",
      "source": [
        "#Subtração\n",
        "\n",
        "subtracao = numero_1 - numero_2\n",
        "\n",
        "print(f\"a subtração dos números {numero_1}  - {numero_2} é igual a {subtracao}\")"
      ],
      "metadata": {
        "colab": {
          "base_uri": "https://localhost:8080/"
        },
        "id": "eNpCIWqfqr1v",
        "outputId": "6682deaa-83bc-4545-f161-992b4537033c"
      },
      "execution_count": null,
      "outputs": [
        {
          "output_type": "stream",
          "name": "stdout",
          "text": [
            "a subtração dos números 9  - 2 é igual a 7\n"
          ]
        }
      ]
    },
    {
      "cell_type": "code",
      "source": [
        "#multiplicacao\n",
        "\n",
        "multiplicacao = numero_1 * numero_2\n",
        "\n",
        "print(f\"a multiplicação dos números {numero_1}  * {numero_2} é igual a {multiplicacao}\")"
      ],
      "metadata": {
        "colab": {
          "base_uri": "https://localhost:8080/"
        },
        "id": "jUMv8IwzrE8l",
        "outputId": "8d348ee6-1f14-408e-c8b6-329ed4410a15"
      },
      "execution_count": null,
      "outputs": [
        {
          "output_type": "stream",
          "name": "stdout",
          "text": [
            "a multiplicação dos números 9  * 2 é igual a 18\n"
          ]
        }
      ]
    },
    {
      "cell_type": "code",
      "source": [
        "#Exponenciação\n",
        "\n",
        "exponenciacao = numero_1 ** numero_2\n",
        "print(f\"a exponenciacao dos números {numero_1}  ** {numero_2} é igual a {exponenciacao}\")"
      ],
      "metadata": {
        "colab": {
          "base_uri": "https://localhost:8080/"
        },
        "id": "AqwEDur7rU3f",
        "outputId": "1269835e-d98f-4f71-b5ab-a730c50970c2"
      },
      "execution_count": null,
      "outputs": [
        {
          "output_type": "stream",
          "name": "stdout",
          "text": [
            "a exponenciacao dos números 9  ** 2 é igual a 81\n"
          ]
        }
      ]
    },
    {
      "cell_type": "code",
      "source": [
        "#Divisão\n",
        "\n",
        "divisao = numero_1 / numero_2\n",
        "print(f\"a divisão dos números {numero_1}  / {numero_2} é igual a {divisao}\")"
      ],
      "metadata": {
        "colab": {
          "base_uri": "https://localhost:8080/"
        },
        "id": "XuPNn5e5rfON",
        "outputId": "d59f72a1-eef1-4997-d393-5bcf132046b6"
      },
      "execution_count": null,
      "outputs": [
        {
          "output_type": "stream",
          "name": "stdout",
          "text": [
            "a divisão dos números 9  / 2 é igual a 4.5\n"
          ]
        }
      ]
    },
    {
      "cell_type": "code",
      "source": [
        "#Divisão Inteira\n",
        "divisao_inteira = numero_1 // numero_2\n",
        "\n",
        "print(f\"a divisão inteira dos números {numero_1}  // {numero_2} é igual a {divisao_inteira}\")"
      ],
      "metadata": {
        "colab": {
          "base_uri": "https://localhost:8080/"
        },
        "id": "rebzxN6ZryU-",
        "outputId": "4f4f4793-f6e1-4da0-e497-b67fc5de107b"
      },
      "execution_count": null,
      "outputs": [
        {
          "output_type": "stream",
          "name": "stdout",
          "text": [
            "a divisão inteira dos números 9  // 2 é igual a 4\n"
          ]
        }
      ]
    },
    {
      "cell_type": "code",
      "source": [
        "#Resto da Divisão\n",
        "\n",
        "resto = numero_1 % numero_2\n",
        "print(f\"o resto da divisão dos números {numero_1}  % {numero_2} é igual a {resto}\")"
      ],
      "metadata": {
        "colab": {
          "base_uri": "https://localhost:8080/"
        },
        "id": "zV0gF5bfsFqF",
        "outputId": "c7d14c53-fbeb-49f3-b15f-48948e7079df"
      },
      "execution_count": null,
      "outputs": [
        {
          "output_type": "stream",
          "name": "stdout",
          "text": [
            "o resto da divisão dos números 9  % 2 é igual a 1\n"
          ]
        }
      ]
    },
    {
      "cell_type": "code",
      "source": [
        "#Operadores de comparação\n",
        "\n",
        "a = 5\n",
        "b = 5"
      ],
      "metadata": {
        "id": "psElEYlxszHV"
      },
      "execution_count": null,
      "outputs": []
    },
    {
      "cell_type": "code",
      "source": [
        "print(a == b)"
      ],
      "metadata": {
        "colab": {
          "base_uri": "https://localhost:8080/"
        },
        "id": "stp0yG85s45R",
        "outputId": "8b7dcffd-3623-414d-c837-d04692c29a3e"
      },
      "execution_count": null,
      "outputs": [
        {
          "output_type": "stream",
          "name": "stdout",
          "text": [
            "True\n"
          ]
        }
      ]
    },
    {
      "cell_type": "code",
      "source": [
        "print(a != b)"
      ],
      "metadata": {
        "colab": {
          "base_uri": "https://localhost:8080/"
        },
        "id": "lhZA4kiMtEPb",
        "outputId": "9712ca35-a6d1-413b-d8c4-4b2bc02708e2"
      },
      "execution_count": null,
      "outputs": [
        {
          "output_type": "stream",
          "name": "stdout",
          "text": [
            "False\n"
          ]
        }
      ]
    },
    {
      "cell_type": "code",
      "source": [],
      "metadata": {
        "id": "Of3o62l-tGl2"
      },
      "execution_count": null,
      "outputs": []
    }
  ]
}